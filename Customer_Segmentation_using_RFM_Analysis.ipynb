{
  "cells": [
    {
      "cell_type": "markdown",
      "metadata": {
        "id": "kJoSiBOROXbK"
      },
      "source": [
        "## Customer Segmentation using RFM Analysis"
      ]
    },
    {
      "cell_type": "markdown",
      "metadata": {
        "id": "35orYV0pOhev"
      },
      "source": [
        "### **Objective:**\n",
        "Your objective is to perform RFM analysis on the dataset and segment the customers\n",
        "into distinct groups based on their RFM scores. These segments will provide valuable insights for\n",
        "marketing and customer retention strategies."
      ]
    },
    {
      "cell_type": "code",
      "execution_count": null,
      "metadata": {
        "id": "Ru0np5BlMfzE"
      },
      "outputs": [],
      "source": [
        "import pandas as pd"
      ]
    },
    {
      "cell_type": "markdown",
      "metadata": {
        "id": "0gEnD7ygO003"
      },
      "source": [
        "### 1. Data Preprocessing:"
      ]
    },
    {
      "cell_type": "code",
      "execution_count": null,
      "metadata": {
        "id": "Vjgkd53MM02v",
        "outputId": "4a03e424-c928-40ef-bc0b-b5ccb7124c45"
      },
      "outputs": [
        {
          "data": {
            "text/html": [
              "<div>\n",
              "<style scoped>\n",
              "    .dataframe tbody tr th:only-of-type {\n",
              "        vertical-align: middle;\n",
              "    }\n",
              "\n",
              "    .dataframe tbody tr th {\n",
              "        vertical-align: top;\n",
              "    }\n",
              "\n",
              "    .dataframe thead th {\n",
              "        text-align: right;\n",
              "    }\n",
              "</style>\n",
              "<table border=\"1\" class=\"dataframe\">\n",
              "  <thead>\n",
              "    <tr style=\"text-align: right;\">\n",
              "      <th></th>\n",
              "      <th>InvoiceNo</th>\n",
              "      <th>StockCode</th>\n",
              "      <th>Description</th>\n",
              "      <th>Quantity</th>\n",
              "      <th>InvoiceDate</th>\n",
              "      <th>UnitPrice</th>\n",
              "      <th>CustomerID</th>\n",
              "      <th>Country</th>\n",
              "    </tr>\n",
              "  </thead>\n",
              "  <tbody>\n",
              "    <tr>\n",
              "      <th>0</th>\n",
              "      <td>536365</td>\n",
              "      <td>85123A</td>\n",
              "      <td>WHITE HANGING HEART T-LIGHT HOLDER</td>\n",
              "      <td>6</td>\n",
              "      <td>12/1/2010 8:26</td>\n",
              "      <td>2.55</td>\n",
              "      <td>17850.0</td>\n",
              "      <td>United Kingdom</td>\n",
              "    </tr>\n",
              "    <tr>\n",
              "      <th>1</th>\n",
              "      <td>536365</td>\n",
              "      <td>71053</td>\n",
              "      <td>WHITE METAL LANTERN</td>\n",
              "      <td>6</td>\n",
              "      <td>12/1/2010 8:26</td>\n",
              "      <td>3.39</td>\n",
              "      <td>17850.0</td>\n",
              "      <td>United Kingdom</td>\n",
              "    </tr>\n",
              "    <tr>\n",
              "      <th>2</th>\n",
              "      <td>536365</td>\n",
              "      <td>84406B</td>\n",
              "      <td>CREAM CUPID HEARTS COAT HANGER</td>\n",
              "      <td>8</td>\n",
              "      <td>12/1/2010 8:26</td>\n",
              "      <td>2.75</td>\n",
              "      <td>17850.0</td>\n",
              "      <td>United Kingdom</td>\n",
              "    </tr>\n",
              "    <tr>\n",
              "      <th>3</th>\n",
              "      <td>536365</td>\n",
              "      <td>84029G</td>\n",
              "      <td>KNITTED UNION FLAG HOT WATER BOTTLE</td>\n",
              "      <td>6</td>\n",
              "      <td>12/1/2010 8:26</td>\n",
              "      <td>3.39</td>\n",
              "      <td>17850.0</td>\n",
              "      <td>United Kingdom</td>\n",
              "    </tr>\n",
              "    <tr>\n",
              "      <th>4</th>\n",
              "      <td>536365</td>\n",
              "      <td>84029E</td>\n",
              "      <td>RED WOOLLY HOTTIE WHITE HEART.</td>\n",
              "      <td>6</td>\n",
              "      <td>12/1/2010 8:26</td>\n",
              "      <td>3.39</td>\n",
              "      <td>17850.0</td>\n",
              "      <td>United Kingdom</td>\n",
              "    </tr>\n",
              "    <tr>\n",
              "      <th>...</th>\n",
              "      <td>...</td>\n",
              "      <td>...</td>\n",
              "      <td>...</td>\n",
              "      <td>...</td>\n",
              "      <td>...</td>\n",
              "      <td>...</td>\n",
              "      <td>...</td>\n",
              "      <td>...</td>\n",
              "    </tr>\n",
              "    <tr>\n",
              "      <th>541904</th>\n",
              "      <td>581587</td>\n",
              "      <td>22613</td>\n",
              "      <td>PACK OF 20 SPACEBOY NAPKINS</td>\n",
              "      <td>12</td>\n",
              "      <td>12/9/2011 12:50</td>\n",
              "      <td>0.85</td>\n",
              "      <td>12680.0</td>\n",
              "      <td>France</td>\n",
              "    </tr>\n",
              "    <tr>\n",
              "      <th>541905</th>\n",
              "      <td>581587</td>\n",
              "      <td>22899</td>\n",
              "      <td>CHILDREN'S APRON DOLLY GIRL</td>\n",
              "      <td>6</td>\n",
              "      <td>12/9/2011 12:50</td>\n",
              "      <td>2.10</td>\n",
              "      <td>12680.0</td>\n",
              "      <td>France</td>\n",
              "    </tr>\n",
              "    <tr>\n",
              "      <th>541906</th>\n",
              "      <td>581587</td>\n",
              "      <td>23254</td>\n",
              "      <td>CHILDRENS CUTLERY DOLLY GIRL</td>\n",
              "      <td>4</td>\n",
              "      <td>12/9/2011 12:50</td>\n",
              "      <td>4.15</td>\n",
              "      <td>12680.0</td>\n",
              "      <td>France</td>\n",
              "    </tr>\n",
              "    <tr>\n",
              "      <th>541907</th>\n",
              "      <td>581587</td>\n",
              "      <td>23255</td>\n",
              "      <td>CHILDRENS CUTLERY CIRCUS PARADE</td>\n",
              "      <td>4</td>\n",
              "      <td>12/9/2011 12:50</td>\n",
              "      <td>4.15</td>\n",
              "      <td>12680.0</td>\n",
              "      <td>France</td>\n",
              "    </tr>\n",
              "    <tr>\n",
              "      <th>541908</th>\n",
              "      <td>581587</td>\n",
              "      <td>22138</td>\n",
              "      <td>BAKING SET 9 PIECE RETROSPOT</td>\n",
              "      <td>3</td>\n",
              "      <td>12/9/2011 12:50</td>\n",
              "      <td>4.95</td>\n",
              "      <td>12680.0</td>\n",
              "      <td>France</td>\n",
              "    </tr>\n",
              "  </tbody>\n",
              "</table>\n",
              "<p>541909 rows × 8 columns</p>\n",
              "</div>"
            ],
            "text/plain": [
              "       InvoiceNo StockCode                          Description  Quantity  \\\n",
              "0         536365    85123A   WHITE HANGING HEART T-LIGHT HOLDER         6   \n",
              "1         536365     71053                  WHITE METAL LANTERN         6   \n",
              "2         536365    84406B       CREAM CUPID HEARTS COAT HANGER         8   \n",
              "3         536365    84029G  KNITTED UNION FLAG HOT WATER BOTTLE         6   \n",
              "4         536365    84029E       RED WOOLLY HOTTIE WHITE HEART.         6   \n",
              "...          ...       ...                                  ...       ...   \n",
              "541904    581587     22613          PACK OF 20 SPACEBOY NAPKINS        12   \n",
              "541905    581587     22899         CHILDREN'S APRON DOLLY GIRL          6   \n",
              "541906    581587     23254        CHILDRENS CUTLERY DOLLY GIRL          4   \n",
              "541907    581587     23255      CHILDRENS CUTLERY CIRCUS PARADE         4   \n",
              "541908    581587     22138        BAKING SET 9 PIECE RETROSPOT          3   \n",
              "\n",
              "            InvoiceDate  UnitPrice  CustomerID         Country  \n",
              "0        12/1/2010 8:26       2.55     17850.0  United Kingdom  \n",
              "1        12/1/2010 8:26       3.39     17850.0  United Kingdom  \n",
              "2        12/1/2010 8:26       2.75     17850.0  United Kingdom  \n",
              "3        12/1/2010 8:26       3.39     17850.0  United Kingdom  \n",
              "4        12/1/2010 8:26       3.39     17850.0  United Kingdom  \n",
              "...                 ...        ...         ...             ...  \n",
              "541904  12/9/2011 12:50       0.85     12680.0          France  \n",
              "541905  12/9/2011 12:50       2.10     12680.0          France  \n",
              "541906  12/9/2011 12:50       4.15     12680.0          France  \n",
              "541907  12/9/2011 12:50       4.15     12680.0          France  \n",
              "541908  12/9/2011 12:50       4.95     12680.0          France  \n",
              "\n",
              "[541909 rows x 8 columns]"
            ]
          },
          "execution_count": 2,
          "metadata": {},
          "output_type": "execute_result"
        }
      ],
      "source": [
        "# Loading the dataset\n",
        "data = pd.read_csv('data.csv', encoding='ISO-8859-1')\n",
        "data"
      ]
    },
    {
      "cell_type": "code",
      "execution_count": null,
      "metadata": {
        "colab": {
          "base_uri": "https://localhost:8080/",
          "height": 206
        },
        "id": "z7T6RT6YNMX3",
        "outputId": "7219afb0-ec89-45b9-a761-7b9c75d7474c"
      },
      "outputs": [
        {
          "data": {
            "text/html": [
              "<div>\n",
              "<style scoped>\n",
              "    .dataframe tbody tr th:only-of-type {\n",
              "        vertical-align: middle;\n",
              "    }\n",
              "\n",
              "    .dataframe tbody tr th {\n",
              "        vertical-align: top;\n",
              "    }\n",
              "\n",
              "    .dataframe thead th {\n",
              "        text-align: right;\n",
              "    }\n",
              "</style>\n",
              "<table border=\"1\" class=\"dataframe\">\n",
              "  <thead>\n",
              "    <tr style=\"text-align: right;\">\n",
              "      <th></th>\n",
              "      <th>InvoiceNo</th>\n",
              "      <th>StockCode</th>\n",
              "      <th>Description</th>\n",
              "      <th>Quantity</th>\n",
              "      <th>InvoiceDate</th>\n",
              "      <th>UnitPrice</th>\n",
              "      <th>CustomerID</th>\n",
              "      <th>Country</th>\n",
              "    </tr>\n",
              "  </thead>\n",
              "  <tbody>\n",
              "    <tr>\n",
              "      <th>0</th>\n",
              "      <td>536365</td>\n",
              "      <td>85123A</td>\n",
              "      <td>WHITE HANGING HEART T-LIGHT HOLDER</td>\n",
              "      <td>6</td>\n",
              "      <td>12/1/2010 8:26</td>\n",
              "      <td>2.55</td>\n",
              "      <td>17850.0</td>\n",
              "      <td>United Kingdom</td>\n",
              "    </tr>\n",
              "    <tr>\n",
              "      <th>1</th>\n",
              "      <td>536365</td>\n",
              "      <td>71053</td>\n",
              "      <td>WHITE METAL LANTERN</td>\n",
              "      <td>6</td>\n",
              "      <td>12/1/2010 8:26</td>\n",
              "      <td>3.39</td>\n",
              "      <td>17850.0</td>\n",
              "      <td>United Kingdom</td>\n",
              "    </tr>\n",
              "    <tr>\n",
              "      <th>2</th>\n",
              "      <td>536365</td>\n",
              "      <td>84406B</td>\n",
              "      <td>CREAM CUPID HEARTS COAT HANGER</td>\n",
              "      <td>8</td>\n",
              "      <td>12/1/2010 8:26</td>\n",
              "      <td>2.75</td>\n",
              "      <td>17850.0</td>\n",
              "      <td>United Kingdom</td>\n",
              "    </tr>\n",
              "    <tr>\n",
              "      <th>3</th>\n",
              "      <td>536365</td>\n",
              "      <td>84029G</td>\n",
              "      <td>KNITTED UNION FLAG HOT WATER BOTTLE</td>\n",
              "      <td>6</td>\n",
              "      <td>12/1/2010 8:26</td>\n",
              "      <td>3.39</td>\n",
              "      <td>17850.0</td>\n",
              "      <td>United Kingdom</td>\n",
              "    </tr>\n",
              "    <tr>\n",
              "      <th>4</th>\n",
              "      <td>536365</td>\n",
              "      <td>84029E</td>\n",
              "      <td>RED WOOLLY HOTTIE WHITE HEART.</td>\n",
              "      <td>6</td>\n",
              "      <td>12/1/2010 8:26</td>\n",
              "      <td>3.39</td>\n",
              "      <td>17850.0</td>\n",
              "      <td>United Kingdom</td>\n",
              "    </tr>\n",
              "  </tbody>\n",
              "</table>\n",
              "</div>"
            ],
            "text/plain": [
              "  InvoiceNo StockCode                          Description  Quantity  \\\n",
              "0    536365    85123A   WHITE HANGING HEART T-LIGHT HOLDER         6   \n",
              "1    536365     71053                  WHITE METAL LANTERN         6   \n",
              "2    536365    84406B       CREAM CUPID HEARTS COAT HANGER         8   \n",
              "3    536365    84029G  KNITTED UNION FLAG HOT WATER BOTTLE         6   \n",
              "4    536365    84029E       RED WOOLLY HOTTIE WHITE HEART.         6   \n",
              "\n",
              "      InvoiceDate  UnitPrice  CustomerID         Country  \n",
              "0  12/1/2010 8:26       2.55     17850.0  United Kingdom  \n",
              "1  12/1/2010 8:26       3.39     17850.0  United Kingdom  \n",
              "2  12/1/2010 8:26       2.75     17850.0  United Kingdom  \n",
              "3  12/1/2010 8:26       3.39     17850.0  United Kingdom  \n",
              "4  12/1/2010 8:26       3.39     17850.0  United Kingdom  "
            ]
          },
          "execution_count": 3,
          "metadata": {},
          "output_type": "execute_result"
        }
      ],
      "source": [
        "data.head()"
      ]
    },
    {
      "cell_type": "code",
      "execution_count": null,
      "metadata": {
        "id": "nDyf7FXnwjTS",
        "outputId": "883fe07b-6fed-435f-f601-13d8eda24b77"
      },
      "outputs": [
        {
          "name": "stdout",
          "output_type": "stream",
          "text": [
            "<class 'pandas.core.frame.DataFrame'>\n",
            "RangeIndex: 541909 entries, 0 to 541908\n",
            "Data columns (total 8 columns):\n",
            " #   Column       Non-Null Count   Dtype  \n",
            "---  ------       --------------   -----  \n",
            " 0   InvoiceNo    541909 non-null  object \n",
            " 1   StockCode    541909 non-null  object \n",
            " 2   Description  540455 non-null  object \n",
            " 3   Quantity     541909 non-null  int64  \n",
            " 4   InvoiceDate  541909 non-null  object \n",
            " 5   UnitPrice    541909 non-null  float64\n",
            " 6   CustomerID   406829 non-null  float64\n",
            " 7   Country      541909 non-null  object \n",
            "dtypes: float64(2), int64(1), object(5)\n",
            "memory usage: 33.1+ MB\n"
          ]
        }
      ],
      "source": [
        "# Inspecting the dataset\n",
        "startx_datax_infox = data.info()\n"
      ]
    },
    {
      "cell_type": "markdown",
      "metadata": {
        "id": "-28ALFf6wjTS"
      },
      "source": [
        "NOTE : THE TOTAL NUMBER OF ENTRIES IN THE DATASET ARE 541909 ACROSS THE 8 COLUMNS"
      ]
    },
    {
      "cell_type": "code",
      "execution_count": null,
      "metadata": {
        "id": "N1W-EBrrwjTT",
        "outputId": "ccc87bee-0c98-4fd9-93dd-cff2422b419b"
      },
      "outputs": [
        {
          "data": {
            "text/plain": [
              "InvoiceNo           0\n",
              "StockCode           0\n",
              "Description      1454\n",
              "Quantity            0\n",
              "InvoiceDate         0\n",
              "UnitPrice           0\n",
              "CustomerID     135080\n",
              "Country             0\n",
              "dtype: int64"
            ]
          },
          "execution_count": 5,
          "metadata": {},
          "output_type": "execute_result"
        }
      ],
      "source": [
        "# Checking for missing values in the dataset\n",
        "numx_of_missvalx = data.isnull().sum()\n",
        "numx_of_missvalx"
      ]
    },
    {
      "cell_type": "markdown",
      "metadata": {
        "id": "U3RXFsAnwjTT"
      },
      "source": [
        "NOTE : WE CAN SEE MISSING VALUES ARE PRESENT IN THE \"Description\" AND THE \"CustomerID\", AND WE NEED TO HANDLE THEM."
      ]
    },
    {
      "cell_type": "code",
      "execution_count": null,
      "metadata": {
        "id": "PUFlmN0TwjTT",
        "outputId": "c95b62d2-6836-41f7-9ad2-442be313a511"
      },
      "outputs": [
        {
          "data": {
            "text/html": [
              "<div>\n",
              "<style scoped>\n",
              "    .dataframe tbody tr th:only-of-type {\n",
              "        vertical-align: middle;\n",
              "    }\n",
              "\n",
              "    .dataframe tbody tr th {\n",
              "        vertical-align: top;\n",
              "    }\n",
              "\n",
              "    .dataframe thead th {\n",
              "        text-align: right;\n",
              "    }\n",
              "</style>\n",
              "<table border=\"1\" class=\"dataframe\">\n",
              "  <thead>\n",
              "    <tr style=\"text-align: right;\">\n",
              "      <th></th>\n",
              "      <th>InvoiceNo</th>\n",
              "      <th>StockCode</th>\n",
              "      <th>Description</th>\n",
              "      <th>Quantity</th>\n",
              "      <th>InvoiceDate</th>\n",
              "      <th>UnitPrice</th>\n",
              "      <th>CustomerID</th>\n",
              "      <th>Country</th>\n",
              "    </tr>\n",
              "  </thead>\n",
              "  <tbody>\n",
              "    <tr>\n",
              "      <th>0</th>\n",
              "      <td>536365</td>\n",
              "      <td>85123A</td>\n",
              "      <td>WHITE HANGING HEART T-LIGHT HOLDER</td>\n",
              "      <td>6</td>\n",
              "      <td>12/1/2010 8:26</td>\n",
              "      <td>2.55</td>\n",
              "      <td>17850.0</td>\n",
              "      <td>United Kingdom</td>\n",
              "    </tr>\n",
              "    <tr>\n",
              "      <th>1</th>\n",
              "      <td>536365</td>\n",
              "      <td>71053</td>\n",
              "      <td>WHITE METAL LANTERN</td>\n",
              "      <td>6</td>\n",
              "      <td>12/1/2010 8:26</td>\n",
              "      <td>3.39</td>\n",
              "      <td>17850.0</td>\n",
              "      <td>United Kingdom</td>\n",
              "    </tr>\n",
              "    <tr>\n",
              "      <th>2</th>\n",
              "      <td>536365</td>\n",
              "      <td>84406B</td>\n",
              "      <td>CREAM CUPID HEARTS COAT HANGER</td>\n",
              "      <td>8</td>\n",
              "      <td>12/1/2010 8:26</td>\n",
              "      <td>2.75</td>\n",
              "      <td>17850.0</td>\n",
              "      <td>United Kingdom</td>\n",
              "    </tr>\n",
              "    <tr>\n",
              "      <th>3</th>\n",
              "      <td>536365</td>\n",
              "      <td>84029G</td>\n",
              "      <td>KNITTED UNION FLAG HOT WATER BOTTLE</td>\n",
              "      <td>6</td>\n",
              "      <td>12/1/2010 8:26</td>\n",
              "      <td>3.39</td>\n",
              "      <td>17850.0</td>\n",
              "      <td>United Kingdom</td>\n",
              "    </tr>\n",
              "    <tr>\n",
              "      <th>4</th>\n",
              "      <td>536365</td>\n",
              "      <td>84029E</td>\n",
              "      <td>RED WOOLLY HOTTIE WHITE HEART.</td>\n",
              "      <td>6</td>\n",
              "      <td>12/1/2010 8:26</td>\n",
              "      <td>3.39</td>\n",
              "      <td>17850.0</td>\n",
              "      <td>United Kingdom</td>\n",
              "    </tr>\n",
              "    <tr>\n",
              "      <th>...</th>\n",
              "      <td>...</td>\n",
              "      <td>...</td>\n",
              "      <td>...</td>\n",
              "      <td>...</td>\n",
              "      <td>...</td>\n",
              "      <td>...</td>\n",
              "      <td>...</td>\n",
              "      <td>...</td>\n",
              "    </tr>\n",
              "    <tr>\n",
              "      <th>541904</th>\n",
              "      <td>581587</td>\n",
              "      <td>22613</td>\n",
              "      <td>PACK OF 20 SPACEBOY NAPKINS</td>\n",
              "      <td>12</td>\n",
              "      <td>12/9/2011 12:50</td>\n",
              "      <td>0.85</td>\n",
              "      <td>12680.0</td>\n",
              "      <td>France</td>\n",
              "    </tr>\n",
              "    <tr>\n",
              "      <th>541905</th>\n",
              "      <td>581587</td>\n",
              "      <td>22899</td>\n",
              "      <td>CHILDREN'S APRON DOLLY GIRL</td>\n",
              "      <td>6</td>\n",
              "      <td>12/9/2011 12:50</td>\n",
              "      <td>2.10</td>\n",
              "      <td>12680.0</td>\n",
              "      <td>France</td>\n",
              "    </tr>\n",
              "    <tr>\n",
              "      <th>541906</th>\n",
              "      <td>581587</td>\n",
              "      <td>23254</td>\n",
              "      <td>CHILDRENS CUTLERY DOLLY GIRL</td>\n",
              "      <td>4</td>\n",
              "      <td>12/9/2011 12:50</td>\n",
              "      <td>4.15</td>\n",
              "      <td>12680.0</td>\n",
              "      <td>France</td>\n",
              "    </tr>\n",
              "    <tr>\n",
              "      <th>541907</th>\n",
              "      <td>581587</td>\n",
              "      <td>23255</td>\n",
              "      <td>CHILDRENS CUTLERY CIRCUS PARADE</td>\n",
              "      <td>4</td>\n",
              "      <td>12/9/2011 12:50</td>\n",
              "      <td>4.15</td>\n",
              "      <td>12680.0</td>\n",
              "      <td>France</td>\n",
              "    </tr>\n",
              "    <tr>\n",
              "      <th>541908</th>\n",
              "      <td>581587</td>\n",
              "      <td>22138</td>\n",
              "      <td>BAKING SET 9 PIECE RETROSPOT</td>\n",
              "      <td>3</td>\n",
              "      <td>12/9/2011 12:50</td>\n",
              "      <td>4.95</td>\n",
              "      <td>12680.0</td>\n",
              "      <td>France</td>\n",
              "    </tr>\n",
              "  </tbody>\n",
              "</table>\n",
              "<p>406829 rows × 8 columns</p>\n",
              "</div>"
            ],
            "text/plain": [
              "       InvoiceNo StockCode                          Description  Quantity  \\\n",
              "0         536365    85123A   WHITE HANGING HEART T-LIGHT HOLDER         6   \n",
              "1         536365     71053                  WHITE METAL LANTERN         6   \n",
              "2         536365    84406B       CREAM CUPID HEARTS COAT HANGER         8   \n",
              "3         536365    84029G  KNITTED UNION FLAG HOT WATER BOTTLE         6   \n",
              "4         536365    84029E       RED WOOLLY HOTTIE WHITE HEART.         6   \n",
              "...          ...       ...                                  ...       ...   \n",
              "541904    581587     22613          PACK OF 20 SPACEBOY NAPKINS        12   \n",
              "541905    581587     22899         CHILDREN'S APRON DOLLY GIRL          6   \n",
              "541906    581587     23254        CHILDRENS CUTLERY DOLLY GIRL          4   \n",
              "541907    581587     23255      CHILDRENS CUTLERY CIRCUS PARADE         4   \n",
              "541908    581587     22138        BAKING SET 9 PIECE RETROSPOT          3   \n",
              "\n",
              "            InvoiceDate  UnitPrice  CustomerID         Country  \n",
              "0        12/1/2010 8:26       2.55     17850.0  United Kingdom  \n",
              "1        12/1/2010 8:26       3.39     17850.0  United Kingdom  \n",
              "2        12/1/2010 8:26       2.75     17850.0  United Kingdom  \n",
              "3        12/1/2010 8:26       3.39     17850.0  United Kingdom  \n",
              "4        12/1/2010 8:26       3.39     17850.0  United Kingdom  \n",
              "...                 ...        ...         ...             ...  \n",
              "541904  12/9/2011 12:50       0.85     12680.0          France  \n",
              "541905  12/9/2011 12:50       2.10     12680.0          France  \n",
              "541906  12/9/2011 12:50       4.15     12680.0          France  \n",
              "541907  12/9/2011 12:50       4.15     12680.0          France  \n",
              "541908  12/9/2011 12:50       4.95     12680.0          France  \n",
              "\n",
              "[406829 rows x 8 columns]"
            ]
          },
          "execution_count": 6,
          "metadata": {},
          "output_type": "execute_result"
        }
      ],
      "source": [
        "# Handling \"Description\" and \"CustomerID\"\n",
        "cleanx_customerx_datax = data.dropna(subset=['Description', 'CustomerID'])\n",
        "cleanx_customerx_datax"
      ]
    },
    {
      "cell_type": "code",
      "execution_count": null,
      "metadata": {
        "scrolled": true,
        "id": "jWwkAG0GwjTU",
        "outputId": "dc9063ef-6d5d-45d1-e0eb-960b94c09f48"
      },
      "outputs": [
        {
          "name": "stderr",
          "output_type": "stream",
          "text": [
            "C:\\Users\\gopan\\AppData\\Local\\Temp\\ipykernel_107212\\3957621601.py:2: SettingWithCopyWarning: \n",
            "A value is trying to be set on a copy of a slice from a DataFrame.\n",
            "Try using .loc[row_indexer,col_indexer] = value instead\n",
            "\n",
            "See the caveats in the documentation: https://pandas.pydata.org/pandas-docs/stable/user_guide/indexing.html#returning-a-view-versus-a-copy\n",
            "  cleanx_customerx_datax['CustomerID'] = cleanx_customerx_datax['CustomerID'].astype(int)\n",
            "C:\\Users\\gopan\\AppData\\Local\\Temp\\ipykernel_107212\\3957621601.py:4: SettingWithCopyWarning: \n",
            "A value is trying to be set on a copy of a slice from a DataFrame.\n",
            "Try using .loc[row_indexer,col_indexer] = value instead\n",
            "\n",
            "See the caveats in the documentation: https://pandas.pydata.org/pandas-docs/stable/user_guide/indexing.html#returning-a-view-versus-a-copy\n",
            "  cleanx_customerx_datax['InvoiceDate'] = pd.to_datetime(cleanx_customerx_datax['InvoiceDate'])\n"
          ]
        }
      ],
      "source": [
        "# Converting 'CustomerID' from float to integer\n",
        "cleanx_customerx_datax['CustomerID'] = cleanx_customerx_datax['CustomerID'].astype(int)\n",
        "# Converting InvoiceDate to datetime format\n",
        "cleanx_customerx_datax['InvoiceDate'] = pd.to_datetime(cleanx_customerx_datax['InvoiceDate'])\n"
      ]
    },
    {
      "cell_type": "code",
      "execution_count": null,
      "metadata": {
        "id": "kpZggtTBwjTU",
        "outputId": "df16fd25-c7ee-45c5-bf4b-3f5cbee41339"
      },
      "outputs": [
        {
          "data": {
            "text/plain": [
              "InvoiceNo      0\n",
              "StockCode      0\n",
              "Description    0\n",
              "Quantity       0\n",
              "InvoiceDate    0\n",
              "UnitPrice      0\n",
              "CustomerID     0\n",
              "Country        0\n",
              "dtype: int64"
            ]
          },
          "execution_count": 8,
          "metadata": {},
          "output_type": "execute_result"
        }
      ],
      "source": [
        "# Checking if the data has been handled successfully\n",
        "finalx_misvalx_infox = cleanx_customerx_datax\n",
        "finalx_misvalx_infox.isnull().sum()"
      ]
    },
    {
      "cell_type": "code",
      "execution_count": null,
      "metadata": {
        "id": "fymBrudjwjTV",
        "outputId": "1c477f19-d3d4-40ac-f351-e5e1fa03e989"
      },
      "outputs": [
        {
          "name": "stdout",
          "output_type": "stream",
          "text": [
            "<class 'pandas.core.frame.DataFrame'>\n",
            "Int64Index: 406829 entries, 0 to 541908\n",
            "Data columns (total 8 columns):\n",
            " #   Column       Non-Null Count   Dtype         \n",
            "---  ------       --------------   -----         \n",
            " 0   InvoiceNo    406829 non-null  object        \n",
            " 1   StockCode    406829 non-null  object        \n",
            " 2   Description  406829 non-null  object        \n",
            " 3   Quantity     406829 non-null  int64         \n",
            " 4   InvoiceDate  406829 non-null  datetime64[ns]\n",
            " 5   UnitPrice    406829 non-null  float64       \n",
            " 6   CustomerID   406829 non-null  int32         \n",
            " 7   Country      406829 non-null  object        \n",
            "dtypes: datetime64[ns](1), float64(1), int32(1), int64(1), object(4)\n",
            "memory usage: 26.4+ MB\n"
          ]
        }
      ],
      "source": [
        "# Checking if the CustomerID and InvoiceDate has been converted to the appropriate data type\n",
        "finalx_misvalx_infox.info()"
      ]
    },
    {
      "cell_type": "markdown",
      "metadata": {
        "id": "q4x9ef-QwjTV"
      },
      "source": [
        "NOTE : Above we can see that the CustomerId has been converted to the interger annd the InvoiceDate to the datetime format."
      ]
    },
    {
      "cell_type": "markdown",
      "metadata": {
        "id": "yXc0VjXtwjTV"
      },
      "source": [
        "# NOTE - FOR CLEANING AND HANDLING THE DATA :\n",
        "1. InvoiceDate was converted to a datetime format for more efficient date handling.\n",
        "2. Rows with missing Description and CustomerID were removed, as this information is essential for item identification.\n",
        "3. CustomerID was converted to an integer data type for consistency and ease of analysis."
      ]
    },
    {
      "cell_type": "code",
      "execution_count": null,
      "metadata": {
        "id": "0KT8K4SDwjTW"
      },
      "outputs": [],
      "source": [
        "# Renaming variable\n",
        "data= finalx_misvalx_infox"
      ]
    },
    {
      "cell_type": "markdown",
      "metadata": {
        "id": "13HxW1kiPt92"
      },
      "source": [
        "### 2. RFM Calculation:"
      ]
    },
    {
      "cell_type": "code",
      "execution_count": null,
      "metadata": {
        "colab": {
          "base_uri": "https://localhost:8080/"
        },
        "id": "OZOqzrJ4PfS7",
        "outputId": "5571ba6c-fe47-4ced-c240-5737f7c0f7af"
      },
      "outputs": [
        {
          "name": "stderr",
          "output_type": "stream",
          "text": [
            "C:\\Users\\gopan\\AppData\\Local\\Temp\\ipykernel_107212\\229836316.py:2: SettingWithCopyWarning: \n",
            "A value is trying to be set on a copy of a slice from a DataFrame.\n",
            "Try using .loc[row_indexer,col_indexer] = value instead\n",
            "\n",
            "See the caveats in the documentation: https://pandas.pydata.org/pandas-docs/stable/user_guide/indexing.html#returning-a-view-versus-a-copy\n",
            "  data['InvoiceDate'] = pd.to_datetime(data['InvoiceDate'])\n",
            "C:\\Users\\gopan\\AppData\\Local\\Temp\\ipykernel_107212\\229836316.py:19: SettingWithCopyWarning: \n",
            "A value is trying to be set on a copy of a slice from a DataFrame.\n",
            "Try using .loc[row_indexer,col_indexer] = value instead\n",
            "\n",
            "See the caveats in the documentation: https://pandas.pydata.org/pandas-docs/stable/user_guide/indexing.html#returning-a-view-versus-a-copy\n",
            "  data['TotalPrice'] = data['Quantity'] * data['UnitPrice']\n"
          ]
        },
        {
          "data": {
            "text/html": [
              "<div>\n",
              "<style scoped>\n",
              "    .dataframe tbody tr th:only-of-type {\n",
              "        vertical-align: middle;\n",
              "    }\n",
              "\n",
              "    .dataframe tbody tr th {\n",
              "        vertical-align: top;\n",
              "    }\n",
              "\n",
              "    .dataframe thead th {\n",
              "        text-align: right;\n",
              "    }\n",
              "</style>\n",
              "<table border=\"1\" class=\"dataframe\">\n",
              "  <thead>\n",
              "    <tr style=\"text-align: right;\">\n",
              "      <th></th>\n",
              "      <th>Recency</th>\n",
              "      <th>Frequency</th>\n",
              "      <th>Monetary</th>\n",
              "    </tr>\n",
              "    <tr>\n",
              "      <th>CustomerID</th>\n",
              "      <th></th>\n",
              "      <th></th>\n",
              "      <th></th>\n",
              "    </tr>\n",
              "  </thead>\n",
              "  <tbody>\n",
              "    <tr>\n",
              "      <th>12346</th>\n",
              "      <td>326</td>\n",
              "      <td>2</td>\n",
              "      <td>0.00</td>\n",
              "    </tr>\n",
              "    <tr>\n",
              "      <th>12347</th>\n",
              "      <td>2</td>\n",
              "      <td>7</td>\n",
              "      <td>4310.00</td>\n",
              "    </tr>\n",
              "    <tr>\n",
              "      <th>12348</th>\n",
              "      <td>75</td>\n",
              "      <td>4</td>\n",
              "      <td>1797.24</td>\n",
              "    </tr>\n",
              "    <tr>\n",
              "      <th>12349</th>\n",
              "      <td>19</td>\n",
              "      <td>1</td>\n",
              "      <td>1757.55</td>\n",
              "    </tr>\n",
              "    <tr>\n",
              "      <th>12350</th>\n",
              "      <td>310</td>\n",
              "      <td>1</td>\n",
              "      <td>334.40</td>\n",
              "    </tr>\n",
              "  </tbody>\n",
              "</table>\n",
              "</div>"
            ],
            "text/plain": [
              "            Recency  Frequency  Monetary\n",
              "CustomerID                              \n",
              "12346           326          2      0.00\n",
              "12347             2          7   4310.00\n",
              "12348            75          4   1797.24\n",
              "12349            19          1   1757.55\n",
              "12350           310          1    334.40"
            ]
          },
          "execution_count": 11,
          "metadata": {},
          "output_type": "execute_result"
        }
      ],
      "source": [
        "# Converting 'InvoiceDate' to datetime format\n",
        "data['InvoiceDate'] = pd.to_datetime(data['InvoiceDate'])\n",
        "\n",
        "# Assuming 'today' is the day after the latest date in the dataset\n",
        "latest_date = data['InvoiceDate'].max()\n",
        "today = latest_date + pd.Timedelta(days=1)\n",
        "\n",
        "# RFM Calculation\n",
        "# Recency: Days since last purchase\n",
        "recency = data.groupby('CustomerID')['InvoiceDate'].max()\n",
        "recency = today - recency\n",
        "recency = recency.dt.days\n",
        "# Frequency: Total number of orders for each customer\n",
        "frequency = data.groupby('CustomerID')['InvoiceNo'].nunique()\n",
        "# Calculating TotalPrice for Monetary\n",
        "data['TotalPrice'] = data['Quantity'] * data['UnitPrice']\n",
        "# Monetary: Sum of total price for each customer\n",
        "monetary = data.groupby('CustomerID')['TotalPrice'].sum()\n",
        "\n",
        "# Creating the RFM DataFrame\n",
        "rfm = pd.DataFrame({\n",
        "    'Recency': recency,\n",
        "    'Frequency': frequency,\n",
        "    'Monetary': monetary\n",
        "})\n",
        "\n",
        "# Displaying the first 5 rows of the RFM DataFrame\n",
        "rfm.head()"
      ]
    },
    {
      "cell_type": "markdown",
      "metadata": {
        "id": "ybJalvlbPkSd"
      },
      "source": [
        "**Inferences from the Output:**\n",
        "Customer 12346.0: This customer has a high recency value (326 days), indicating they haven't made a purchase recently. Despite having 2 orders (frequency), their monetary value is 0, suggesting returned or cancelled orders.\n",
        "Customer 12347.0: With a recency of 2 days and 7 orders, this customer is both recent and frequent, with a significant total spend, indicating a highly engaged and valuable customer.\n",
        "Customer 12348.0: They have a moderate recency and frequency but a relatively high monetary value, suggesting fewer but larger purchases.\n",
        "Customer 12349.0: This customer has made a recent purchase (19 days ago) but has only shopped once, spending a substantial amount in that single order.\n",
        "Customer 12350.0: With a high recency (310 days), this customer might be at risk of churn, having made only one purchase."
      ]
    },
    {
      "cell_type": "markdown",
      "metadata": {
        "id": "fpXHNn_GQDpC"
      },
      "source": [
        "### 3. RFM Segmentation:"
      ]
    },
    {
      "cell_type": "code",
      "execution_count": null,
      "metadata": {
        "colab": {
          "base_uri": "https://localhost:8080/"
        },
        "id": "EOpGNz7XPsdH",
        "outputId": "2987d203-c4ea-462c-b513-0c232f16a28d"
      },
      "outputs": [
        {
          "data": {
            "text/html": [
              "<div>\n",
              "<style scoped>\n",
              "    .dataframe tbody tr th:only-of-type {\n",
              "        vertical-align: middle;\n",
              "    }\n",
              "\n",
              "    .dataframe tbody tr th {\n",
              "        vertical-align: top;\n",
              "    }\n",
              "\n",
              "    .dataframe thead th {\n",
              "        text-align: right;\n",
              "    }\n",
              "</style>\n",
              "<table border=\"1\" class=\"dataframe\">\n",
              "  <thead>\n",
              "    <tr style=\"text-align: right;\">\n",
              "      <th></th>\n",
              "      <th>Recency</th>\n",
              "      <th>Frequency</th>\n",
              "      <th>Monetary</th>\n",
              "      <th>R_quartile</th>\n",
              "      <th>F_quartile</th>\n",
              "      <th>M_quartile</th>\n",
              "    </tr>\n",
              "    <tr>\n",
              "      <th>CustomerID</th>\n",
              "      <th></th>\n",
              "      <th></th>\n",
              "      <th></th>\n",
              "      <th></th>\n",
              "      <th></th>\n",
              "      <th></th>\n",
              "    </tr>\n",
              "  </thead>\n",
              "  <tbody>\n",
              "    <tr>\n",
              "      <th>12346</th>\n",
              "      <td>326</td>\n",
              "      <td>2</td>\n",
              "      <td>0.00</td>\n",
              "      <td>1</td>\n",
              "      <td>3</td>\n",
              "      <td>4</td>\n",
              "    </tr>\n",
              "    <tr>\n",
              "      <th>12347</th>\n",
              "      <td>2</td>\n",
              "      <td>7</td>\n",
              "      <td>4310.00</td>\n",
              "      <td>4</td>\n",
              "      <td>1</td>\n",
              "      <td>1</td>\n",
              "    </tr>\n",
              "    <tr>\n",
              "      <th>12348</th>\n",
              "      <td>75</td>\n",
              "      <td>4</td>\n",
              "      <td>1797.24</td>\n",
              "      <td>2</td>\n",
              "      <td>2</td>\n",
              "      <td>1</td>\n",
              "    </tr>\n",
              "    <tr>\n",
              "      <th>12349</th>\n",
              "      <td>19</td>\n",
              "      <td>1</td>\n",
              "      <td>1757.55</td>\n",
              "      <td>3</td>\n",
              "      <td>3</td>\n",
              "      <td>1</td>\n",
              "    </tr>\n",
              "    <tr>\n",
              "      <th>12350</th>\n",
              "      <td>310</td>\n",
              "      <td>1</td>\n",
              "      <td>334.40</td>\n",
              "      <td>1</td>\n",
              "      <td>3</td>\n",
              "      <td>3</td>\n",
              "    </tr>\n",
              "  </tbody>\n",
              "</table>\n",
              "</div>"
            ],
            "text/plain": [
              "            Recency  Frequency  Monetary R_quartile F_quartile M_quartile\n",
              "CustomerID                                                               \n",
              "12346           326          2      0.00          1          3          4\n",
              "12347             2          7   4310.00          4          1          1\n",
              "12348            75          4   1797.24          2          2          1\n",
              "12349            19          1   1757.55          3          3          1\n",
              "12350           310          1    334.40          1          3          3"
            ]
          },
          "execution_count": 12,
          "metadata": {},
          "output_type": "execute_result"
        }
      ],
      "source": [
        "# RFM Segmentation with rank-based quartiles\n",
        "\n",
        "# Recency: Lower values are better\n",
        "rfm['R_quartile'] = rfm['Recency'].rank(method='first', ascending=True)\n",
        "rfm['R_quartile'] = pd.qcut(rfm['R_quartile'], 4, labels=[4, 3, 2, 1])\n",
        "\n",
        "# Frequency: Higher values are better\n",
        "rfm['F_quartile'] = rfm['Frequency'].rank(method='first', ascending=False)\n",
        "rfm['F_quartile'] = pd.qcut(rfm['F_quartile'], 4, labels=[1, 2, 3, 4])\n",
        "\n",
        "# Monetary: Higher values are better\n",
        "rfm['M_quartile'] = rfm['Monetary'].rank(method='first', ascending=False)\n",
        "rfm['M_quartile'] = pd.qcut(rfm['M_quartile'], 4, labels=[1, 2, 3, 4])\n",
        "\n",
        "# Displaying the first 5 rows of the updated RFM DataFrame\n",
        "rfm.head()\n"
      ]
    },
    {
      "cell_type": "markdown",
      "metadata": {
        "id": "cUWQMdYwRUwZ"
      },
      "source": [
        "Explanation:\n",
        "Rank-Based Quartiles: This method first ranks customers based on their RFM scores and then divides these ranks into quartiles. This approach is particularly useful when there are many duplicate values in the dataset.\n",
        "\n",
        "Recency (R_quartile): Customers are ranked based on how recently they've made a purchase, with more recent purchasers receiving a lower rank. These ranks are then divided into quartiles.\n",
        "\n",
        "Frequency (F_quartile) and Monetary (M_quartile): Customers are ranked based on how often and how much they spend, respectively, with higher ranks indicating more frequency or spending. These ranks are then segmented into quartiles.\n",
        "\n"
      ]
    },
    {
      "cell_type": "code",
      "execution_count": null,
      "metadata": {
        "colab": {
          "base_uri": "https://localhost:8080/"
        },
        "id": "aKORZGJVRXsU",
        "outputId": "8a26b77b-a052-4364-a87b-cf0860d17aaa"
      },
      "outputs": [
        {
          "data": {
            "text/html": [
              "<div>\n",
              "<style scoped>\n",
              "    .dataframe tbody tr th:only-of-type {\n",
              "        vertical-align: middle;\n",
              "    }\n",
              "\n",
              "    .dataframe tbody tr th {\n",
              "        vertical-align: top;\n",
              "    }\n",
              "\n",
              "    .dataframe thead th {\n",
              "        text-align: right;\n",
              "    }\n",
              "</style>\n",
              "<table border=\"1\" class=\"dataframe\">\n",
              "  <thead>\n",
              "    <tr style=\"text-align: right;\">\n",
              "      <th></th>\n",
              "      <th>Recency</th>\n",
              "      <th>Frequency</th>\n",
              "      <th>Monetary</th>\n",
              "      <th>R_quartile</th>\n",
              "      <th>F_quartile</th>\n",
              "      <th>M_quartile</th>\n",
              "      <th>RFM_Score</th>\n",
              "    </tr>\n",
              "    <tr>\n",
              "      <th>CustomerID</th>\n",
              "      <th></th>\n",
              "      <th></th>\n",
              "      <th></th>\n",
              "      <th></th>\n",
              "      <th></th>\n",
              "      <th></th>\n",
              "      <th></th>\n",
              "    </tr>\n",
              "  </thead>\n",
              "  <tbody>\n",
              "    <tr>\n",
              "      <th>12346</th>\n",
              "      <td>326</td>\n",
              "      <td>2</td>\n",
              "      <td>0.00</td>\n",
              "      <td>1</td>\n",
              "      <td>3</td>\n",
              "      <td>4</td>\n",
              "      <td>134</td>\n",
              "    </tr>\n",
              "    <tr>\n",
              "      <th>12347</th>\n",
              "      <td>2</td>\n",
              "      <td>7</td>\n",
              "      <td>4310.00</td>\n",
              "      <td>4</td>\n",
              "      <td>1</td>\n",
              "      <td>1</td>\n",
              "      <td>411</td>\n",
              "    </tr>\n",
              "    <tr>\n",
              "      <th>12348</th>\n",
              "      <td>75</td>\n",
              "      <td>4</td>\n",
              "      <td>1797.24</td>\n",
              "      <td>2</td>\n",
              "      <td>2</td>\n",
              "      <td>1</td>\n",
              "      <td>221</td>\n",
              "    </tr>\n",
              "    <tr>\n",
              "      <th>12349</th>\n",
              "      <td>19</td>\n",
              "      <td>1</td>\n",
              "      <td>1757.55</td>\n",
              "      <td>3</td>\n",
              "      <td>3</td>\n",
              "      <td>1</td>\n",
              "      <td>331</td>\n",
              "    </tr>\n",
              "    <tr>\n",
              "      <th>12350</th>\n",
              "      <td>310</td>\n",
              "      <td>1</td>\n",
              "      <td>334.40</td>\n",
              "      <td>1</td>\n",
              "      <td>3</td>\n",
              "      <td>3</td>\n",
              "      <td>133</td>\n",
              "    </tr>\n",
              "  </tbody>\n",
              "</table>\n",
              "</div>"
            ],
            "text/plain": [
              "            Recency  Frequency  Monetary R_quartile F_quartile M_quartile  \\\n",
              "CustomerID                                                                  \n",
              "12346           326          2      0.00          1          3          4   \n",
              "12347             2          7   4310.00          4          1          1   \n",
              "12348            75          4   1797.24          2          2          1   \n",
              "12349            19          1   1757.55          3          3          1   \n",
              "12350           310          1    334.40          1          3          3   \n",
              "\n",
              "           RFM_Score  \n",
              "CustomerID            \n",
              "12346            134  \n",
              "12347            411  \n",
              "12348            221  \n",
              "12349            331  \n",
              "12350            133  "
            ]
          },
          "execution_count": 13,
          "metadata": {},
          "output_type": "execute_result"
        }
      ],
      "source": [
        "# Combining RFM scores into a single score for each customer\n",
        "# Concatenating R_quartile, F_quartile, and M_quartile into a single string\n",
        "rfm['RFM_Score'] = rfm['R_quartile'].astype(str) + rfm['F_quartile'].astype(str) + rfm['M_quartile'].astype(str)\n",
        "\n",
        "# Displaying the first 5 rows of the updated RFM DataFrame\n",
        "rfm.head()"
      ]
    },
    {
      "cell_type": "markdown",
      "metadata": {
        "id": "A5wD2LnOSGcR"
      },
      "source": [
        "NOTE:\n",
        "Combining RFM Scores: The individual R, F, and M quartiles are concatenated to form a single RFM score for each customer. This score is a string with three characters, each representing the quartile ranking for Recency, Frequency, and Monetary, in that order.\n",
        "\n",
        "\n",
        "EXAMPLE :\n",
        "In in the above table we can see the RFM_Score for the CustomerID 12346 is 134 i.e. ( R_quartile = 1 , F_quartile = 3 , M_quartile = 4 )"
      ]
    },
    {
      "cell_type": "markdown",
      "metadata": {
        "id": "f0sFcUzJTg9E"
      },
      "source": [
        "### 4. Customer Segmentation:"
      ]
    },
    {
      "cell_type": "code",
      "execution_count": null,
      "metadata": {
        "colab": {
          "base_uri": "https://localhost:8080/",
          "height": 1000
        },
        "id": "qhGIKUjHTmjx",
        "outputId": "1e69e782-00a3-4043-c97e-d727cfef2b6c"
      },
      "outputs": [
        {
          "data": {
            "image/png": "[encoded data removed]",
            "text/plain": [
              "<Figure size 1000x500 with 1 Axes>"
            ]
          },
          "metadata": {},
          "output_type": "display_data"
        },
        {
          "name": "stdout",
          "output_type": "stream",
          "text": [
            "0    3241\n",
            "1    1108\n",
            "2      23\n",
            "Name: Cluster, dtype: int64\n"
          ]
        },
        {
          "data": {
            "image/png": "[encoded data removed]",
            "text/plain": [
              "<Figure size 1000x500 with 1 Axes>"
            ]
          },
          "metadata": {},
          "output_type": "display_data"
        }
      ],
      "source": [
        "from sklearn.cluster import KMeans\n",
        "import matplotlib.pyplot as plt\n",
        "import seaborn as sns\n",
        "\n",
        "# Standardizing the data\n",
        "from sklearn.preprocessing import StandardScaler\n",
        "scaler = StandardScaler()\n",
        "rfm_scaled = scaler.fit_transform(rfm[['Recency', 'Frequency', 'Monetary']])\n",
        "\n",
        "# Using the Elbow Method to find the optimal number of clusters\n",
        "wcss = []\n",
        "for i in range(1, 11):\n",
        "    kmeans = KMeans(n_clusters=i, init='k-means++', max_iter=300, n_init=10, random_state=0)\n",
        "    kmeans.fit(rfm_scaled)\n",
        "    wcss.append(kmeans.inertia_)\n",
        "\n",
        "# Plotting the results onto a line graph to observe 'Elbow'\n",
        "plt.figure(figsize=(10, 5))\n",
        "plt.plot(range(1, 11), wcss, marker='o')\n",
        "plt.title('The Elbow Method')\n",
        "plt.xlabel('Number of clusters')\n",
        "plt.ylabel('WCSS')  # Within cluster sum of squares\n",
        "plt.show()\n",
        "\n",
        "# Choosing the number of clusters (k) based on the elbow plot\n",
        "k = 3\n",
        "kmeans = KMeans(n_clusters=k, init='k-means++', max_iter=300, n_init=10, random_state=0)\n",
        "rfm['Cluster'] = kmeans.fit_predict(rfm_scaled)\n",
        "\n",
        "# Checking the number of customers in each cluster\n",
        "print(rfm['Cluster'].value_counts())\n",
        "\n",
        "# Plotting the clusters\n",
        "plt.figure(figsize=(10, 5))\n",
        "sns.scatterplot(x='Frequency', y='Monetary', hue='Cluster', data=rfm, palette='viridis')\n",
        "plt.title('Customer Segments')\n",
        "plt.show()\n"
      ]
    },
    {
      "cell_type": "markdown",
      "metadata": {
        "id": "8iHHE2ZdT-cZ"
      },
      "source": [
        "** Silhouette Score**"
      ]
    },
    {
      "cell_type": "code",
      "execution_count": null,
      "metadata": {
        "colab": {
          "base_uri": "https://localhost:8080/",
          "height": 1000
        },
        "id": "mDh2D_ViTuS8",
        "outputId": "958b3160-81cc-41dd-8aff-24aba13a9877"
      },
      "outputs": [
        {
          "data": {
            "image/png": "[encoded data removed]",
            "text/plain": [
              "<Figure size 1400x500 with 2 Axes>"
            ]
          },
          "metadata": {},
          "output_type": "display_data"
        },
        {
          "name": "stdout",
          "output_type": "stream",
          "text": [
            "2    3169\n",
            "0    1087\n",
            "1     110\n",
            "3       6\n",
            "Name: Cluster, dtype: int64\n"
          ]
        },
        {
          "data": {
            "image/png": "[encoded data removed]",
            "text/plain": [
              "<Figure size 1000x500 with 1 Axes>"
            ]
          },
          "metadata": {},
          "output_type": "display_data"
        }
      ],
      "source": [
        "from sklearn.metrics import silhouette_score\n",
        "\n",
        "# Standardizing the data\n",
        "scaler = StandardScaler()\n",
        "rfm_scaled = scaler.fit_transform(rfm[['Recency', 'Frequency', 'Monetary']])\n",
        "\n",
        "# Calculating Silhouette Scores\n",
        "wcss = []\n",
        "silhouette_scores = []\n",
        "for i in range(2, 11):  # Starting from 2 as silhouette score cannot be calculated for 1 cluster\n",
        "    kmeans = KMeans(n_clusters=i, init='k-means++', max_iter=300, n_init=10, random_state=0)\n",
        "    kmeans.fit(rfm_scaled)\n",
        "    wcss.append(kmeans.inertia_)\n",
        "    silhouette_scores.append(silhouette_score(rfm_scaled, kmeans.labels_))\n",
        "\n",
        "# Plotting WCSS (Elbow Method)\n",
        "plt.figure(figsize=(14, 5))\n",
        "plt.subplot(1, 2, 1)\n",
        "plt.plot(range(2, 11), wcss, marker='o')\n",
        "plt.title('The Elbow Method')\n",
        "plt.xlabel('Number of clusters')\n",
        "plt.ylabel('WCSS')\n",
        "\n",
        "# Plotting Silhouette Scores\n",
        "plt.subplot(1, 2, 2)\n",
        "plt.plot(range(2, 11), silhouette_scores, marker='o')\n",
        "plt.title('Silhouette Scores')\n",
        "plt.xlabel('Number of clusters')\n",
        "plt.ylabel('Silhouette Score')\n",
        "\n",
        "plt.tight_layout()\n",
        "plt.show()\n",
        "\n",
        "# Choosing the optimal number of clusters based on the plots\n",
        "optimal_clusters = 4  # Replacing num of cluster based on the recent plot\n",
        "\n",
        "# Applying K-Means clustering with the chosen number of clusters\n",
        "kmeans = KMeans(n_clusters=optimal_clusters, init='k-means++', max_iter=300, n_init=10, random_state=0)\n",
        "rfm['Cluster'] = kmeans.fit_predict(rfm_scaled)\n",
        "\n",
        "# Checking the number of customers in each cluster\n",
        "print(rfm['Cluster'].value_counts())\n",
        "\n",
        "# Plotting the clusters\n",
        "plt.figure(figsize=(10, 5))\n",
        "sns.scatterplot(x='Frequency', y='Monetary', hue='Cluster', data=rfm, palette='viridis')\n",
        "plt.title('Customer Segments with ' + str(optimal_clusters) + ' Clusters')\n",
        "plt.show()\n"
      ]
    },
    {
      "cell_type": "markdown",
      "metadata": {
        "id": "0uZYWT0gU3Mj"
      },
      "source": [
        "### 5. Segment Profiling:"
      ]
    },
    {
      "cell_type": "code",
      "execution_count": null,
      "metadata": {
        "colab": {
          "base_uri": "https://localhost:8080/",
          "height": 594
        },
        "id": "77riOjRGU5Wv",
        "outputId": "95efd3e8-73b3-4901-81f0-f35ce4257964"
      },
      "outputs": [
        {
          "name": "stdout",
          "output_type": "stream",
          "text": [
            "   Cluster  Average Recency  Average Frequency  Average Monetary  Count\n",
            "0        0       247.951242           1.805888        453.488888   1087\n",
            "1        1         9.181818          40.672727      18441.961455    110\n",
            "2        2        41.606500           4.802461       1478.515539   3169\n",
            "3        3         7.666667          89.000000     182181.981667      6\n"
          ]
        },
        {
          "data": {
            "image/png": "[encoded data removed]",
            "text/plain": [
              "<Figure size 1500x500 with 3 Axes>"
            ]
          },
          "metadata": {},
          "output_type": "display_data"
        }
      ],
      "source": [
        "# Analyzing each cluster\n",
        "\n",
        "# Calculating the mean RFM values for each cluster\n",
        "cluster_profile = rfm.groupby('Cluster').agg({\n",
        "    'Recency': 'mean',\n",
        "    'Frequency': 'mean',\n",
        "    'Monetary': ['mean', 'count']\n",
        "}).reset_index()\n",
        "\n",
        "# Renaming columns for better readability\n",
        "cluster_profile.columns = ['Cluster', 'Average Recency', 'Average Frequency', 'Average Monetary', 'Count']\n",
        "\n",
        "# Displaying the cluster profiles\n",
        "print(cluster_profile)\n",
        "\n",
        "# Box plots for further analysis\n",
        "import matplotlib.pyplot as plt\n",
        "\n",
        "# Recency\n",
        "plt.figure(figsize=(15, 5))\n",
        "plt.subplot(1, 3, 1)\n",
        "sns.boxplot(x='Cluster', y='Recency', data=rfm)\n",
        "plt.title('Recency by Cluster')\n",
        "\n",
        "# Frequency\n",
        "plt.subplot(1, 3, 2)\n",
        "sns.boxplot(x='Cluster', y='Frequency', data=rfm)\n",
        "plt.title('Frequency by Cluster')\n",
        "\n",
        "# Monetary\n",
        "plt.subplot(1, 3, 3)\n",
        "sns.boxplot(x='Cluster', y='Monetary', data=rfm)\n",
        "plt.title('Monetary by Cluster')\n",
        "\n",
        "plt.tight_layout()\n",
        "plt.show()\n"
      ]
    },
    {
      "cell_type": "markdown",
      "metadata": {
        "id": "HvPrdE6cVOVj"
      },
      "source": [
        "Interpretation of Segment Profiles:\n",
        "Average Recency: This metric shows how recent the purchases are on average within each cluster. A lower average recency indicates a cluster with more recent activity.\n",
        "\n",
        "Average Frequency: This represents the average number of purchases in each cluster. Higher frequency indicates a cluster with more frequent purchases.\n",
        "\n",
        "Average Monetary: This indicates the average spending of customers in each cluster. Higher values suggest clusters with higher spending customers.\n",
        "\n",
        "Count: The number of customers in each cluster, indicating the size of each segment.\n",
        "\n",
        "Box Plots: These provide visual insights into the distribution of RFM metrics within each cluster. They can show the range, median, and any potential outliers in each segment."
      ]
    },
    {
      "cell_type": "markdown",
      "metadata": {
        "id": "JyI-_fcMVWiS"
      },
      "source": [
        "### 6. Marketing Recommendations:"
      ]
    },
    {
      "cell_type": "code",
      "execution_count": null,
      "metadata": {
        "colab": {
          "base_uri": "https://localhost:8080/",
          "height": 594
        },
        "id": "r2NhrRkJVPki",
        "outputId": "de9771c9-4366-486e-c495-f26bd9c7fd1e"
      },
      "outputs": [
        {
          "data": {
            "image/png": "[encoded data removed]",
            "text/plain": [
              "<Figure size 1500x500 with 3 Axes>"
            ]
          },
          "metadata": {},
          "output_type": "display_data"
        },
        {
          "name": "stdout",
          "output_type": "stream",
          "text": [
            "   Cluster     Recency  Frequency       Monetary  Count\n",
            "0        0  247.951242   1.805888     453.488888   1087\n",
            "1        1    9.181818  40.672727   18441.961455    110\n",
            "2        2   41.606500   4.802461    1478.515539   3169\n",
            "3        3    7.666667  89.000000  182181.981667      6\n"
          ]
        }
      ],
      "source": [
        "import pandas as pd\n",
        "import matplotlib.pyplot as plt\n",
        "import seaborn as sns\n",
        "\n",
        "# Assuming you have an 'rfm' DataFrame with RFM scores and 'Cluster' column from K-Means clustering\n",
        "\n",
        "# Grouping data by cluster to find average RFM values and count of customers in each cluster\n",
        "cluster_analysis = rfm.groupby('Cluster').agg({\n",
        "    'Recency': 'mean',\n",
        "    'Frequency': 'mean',\n",
        "    'Monetary': 'mean'\n",
        "}).reset_index()\n",
        "\n",
        "# Adding a count of customers in each cluster\n",
        "cluster_analysis['Count'] = rfm.groupby('Cluster').size()\n",
        "\n",
        "# Plotting average values for each cluster\n",
        "fig, axes = plt.subplots(1, 3, figsize=(15, 5))\n",
        "\n",
        "sns.barplot(x='Cluster', y='Recency', data=cluster_analysis, ax=axes[0])\n",
        "axes[0].set_title('Average Recency by Cluster')\n",
        "\n",
        "sns.barplot(x='Cluster', y='Frequency', data=cluster_analysis, ax=axes[1])\n",
        "axes[1].set_title('Average Frequency by Cluster')\n",
        "\n",
        "sns.barplot(x='Cluster', y='Monetary', data=cluster_analysis, ax=axes[2])\n",
        "axes[2].set_title('Average Monetary by Cluster')\n",
        "\n",
        "plt.tight_layout()\n",
        "plt.show()\n",
        "\n",
        "# Displaying the analysis\n",
        "print(cluster_analysis)\n"
      ]
    },
    {
      "cell_type": "code",
      "execution_count": null,
      "metadata": {
        "colab": {
          "base_uri": "https://localhost:8080/"
        },
        "id": "b6bnsvQpW9p3",
        "outputId": "0ccdfef2-1d5b-451c-e7c6-be80c3ad9089"
      },
      "outputs": [
        {
          "name": "stdout",
          "output_type": "stream",
          "text": [
            "Potential Loyalists    1080\n",
            "Loyal Customers        1046\n",
            "At-Risk Customers       985\n",
            "Churned Customers       790\n",
            "Other                   371\n",
            "New Customers           100\n",
            "Name: Segment, dtype: int64\n"
          ]
        },
        {
          "data": {
            "text/html": [
              "<div>\n",
              "<style scoped>\n",
              "    .dataframe tbody tr th:only-of-type {\n",
              "        vertical-align: middle;\n",
              "    }\n",
              "\n",
              "    .dataframe tbody tr th {\n",
              "        vertical-align: top;\n",
              "    }\n",
              "\n",
              "    .dataframe thead th {\n",
              "        text-align: right;\n",
              "    }\n",
              "</style>\n",
              "<table border=\"1\" class=\"dataframe\">\n",
              "  <thead>\n",
              "    <tr style=\"text-align: right;\">\n",
              "      <th></th>\n",
              "      <th>Recency</th>\n",
              "      <th>Frequency</th>\n",
              "      <th>Monetary</th>\n",
              "      <th>R_quartile</th>\n",
              "      <th>F_quartile</th>\n",
              "      <th>M_quartile</th>\n",
              "      <th>RFM_Score</th>\n",
              "      <th>Cluster</th>\n",
              "      <th>Segment</th>\n",
              "    </tr>\n",
              "    <tr>\n",
              "      <th>CustomerID</th>\n",
              "      <th></th>\n",
              "      <th></th>\n",
              "      <th></th>\n",
              "      <th></th>\n",
              "      <th></th>\n",
              "      <th></th>\n",
              "      <th></th>\n",
              "      <th></th>\n",
              "      <th></th>\n",
              "    </tr>\n",
              "  </thead>\n",
              "  <tbody>\n",
              "    <tr>\n",
              "      <th>12346</th>\n",
              "      <td>326</td>\n",
              "      <td>2</td>\n",
              "      <td>0.00</td>\n",
              "      <td>1</td>\n",
              "      <td>3</td>\n",
              "      <td>4</td>\n",
              "      <td>134</td>\n",
              "      <td>0</td>\n",
              "      <td>Potential Loyalists</td>\n",
              "    </tr>\n",
              "    <tr>\n",
              "      <th>12347</th>\n",
              "      <td>2</td>\n",
              "      <td>7</td>\n",
              "      <td>4310.00</td>\n",
              "      <td>4</td>\n",
              "      <td>1</td>\n",
              "      <td>1</td>\n",
              "      <td>411</td>\n",
              "      <td>2</td>\n",
              "      <td>Churned Customers</td>\n",
              "    </tr>\n",
              "    <tr>\n",
              "      <th>12348</th>\n",
              "      <td>75</td>\n",
              "      <td>4</td>\n",
              "      <td>1797.24</td>\n",
              "      <td>2</td>\n",
              "      <td>2</td>\n",
              "      <td>1</td>\n",
              "      <td>221</td>\n",
              "      <td>2</td>\n",
              "      <td>Other</td>\n",
              "    </tr>\n",
              "    <tr>\n",
              "      <th>12349</th>\n",
              "      <td>19</td>\n",
              "      <td>1</td>\n",
              "      <td>1757.55</td>\n",
              "      <td>3</td>\n",
              "      <td>3</td>\n",
              "      <td>1</td>\n",
              "      <td>331</td>\n",
              "      <td>2</td>\n",
              "      <td>At-Risk Customers</td>\n",
              "    </tr>\n",
              "    <tr>\n",
              "      <th>12350</th>\n",
              "      <td>310</td>\n",
              "      <td>1</td>\n",
              "      <td>334.40</td>\n",
              "      <td>1</td>\n",
              "      <td>3</td>\n",
              "      <td>3</td>\n",
              "      <td>133</td>\n",
              "      <td>0</td>\n",
              "      <td>Potential Loyalists</td>\n",
              "    </tr>\n",
              "  </tbody>\n",
              "</table>\n",
              "</div>"
            ],
            "text/plain": [
              "            Recency  Frequency  Monetary  R_quartile  F_quartile  M_quartile  \\\n",
              "CustomerID                                                                     \n",
              "12346           326          2      0.00           1           3           4   \n",
              "12347             2          7   4310.00           4           1           1   \n",
              "12348            75          4   1797.24           2           2           1   \n",
              "12349            19          1   1757.55           3           3           1   \n",
              "12350           310          1    334.40           1           3           3   \n",
              "\n",
              "           RFM_Score  Cluster              Segment  \n",
              "CustomerID                                          \n",
              "12346            134        0  Potential Loyalists  \n",
              "12347            411        2    Churned Customers  \n",
              "12348            221        2                Other  \n",
              "12349            331        2    At-Risk Customers  \n",
              "12350            133        0  Potential Loyalists  "
            ]
          },
          "execution_count": 18,
          "metadata": {},
          "output_type": "execute_result"
        }
      ],
      "source": [
        "# Defining thresholds for each segment.\n",
        "high_value_threshold = {'R': [0, 2], 'F': [3, 4], 'M': [3, 4]}\n",
        "loyal_customer_threshold = {'R': [0, 3], 'F': [3, 4], 'M': [1, 4]}\n",
        "potential_loyalist_threshold = {'R': [0, 3], 'F': [2, 3], 'M': [2, 4]}\n",
        "new_customer_threshold = {'R': [0, 1], 'F': [1, 2], 'M': [1, 2]}\n",
        "at_risk_threshold = {'R': [3, 4], 'F': [1, 3], 'M': [1, 3]}\n",
        "churned_customer_threshold = {'R': [4, 4], 'F': [1, 2], 'M': [1, 2]}\n",
        "# Converting the RFM quartile columns to integers for comparison\n",
        "rfm['R_quartile'] = rfm['R_quartile'].astype(int)\n",
        "rfm['F_quartile'] = rfm['F_quartile'].astype(int)\n",
        "rfm['M_quartile'] = rfm['M_quartile'].astype(int)\n",
        "\n",
        "# Categorizing customers based on defined thresholds\n",
        "rfm['Segment'] = 'Other'  # Default segment\n",
        "rfm.loc[\n",
        "    (rfm['R_quartile'].between(*high_value_threshold['R'])) &\n",
        "    (rfm['F_quartile'].between(*high_value_threshold['F'])) &\n",
        "    (rfm['M_quartile'].between(*high_value_threshold['M'])), 'Segment'] = 'High-Value Customers'\n",
        "\n",
        "rfm.loc[\n",
        "    (rfm['R_quartile'].between(*loyal_customer_threshold['R'])) &\n",
        "    (rfm['F_quartile'].between(*loyal_customer_threshold['F'])) &\n",
        "    (rfm['M_quartile'].between(*loyal_customer_threshold['M'])), 'Segment'] = 'Loyal Customers'\n",
        "\n",
        "rfm.loc[\n",
        "    (rfm['R_quartile'].between(*potential_loyalist_threshold['R'])) &\n",
        "    (rfm['F_quartile'].between(*potential_loyalist_threshold['F'])) &\n",
        "    (rfm['M_quartile'].between(*potential_loyalist_threshold['M'])), 'Segment'] = 'Potential Loyalists'\n",
        "\n",
        "rfm.loc[\n",
        "    (rfm['R_quartile'].between(*new_customer_threshold['R'])) &\n",
        "    (rfm['F_quartile'].between(*new_customer_threshold['F'])) &\n",
        "    (rfm['M_quartile'].between(*new_customer_threshold['M'])), 'Segment'] = 'New Customers'\n",
        "\n",
        "rfm.loc[\n",
        "    (rfm['R_quartile'].between(*at_risk_threshold['R'])) &\n",
        "    (rfm['F_quartile'].between(*at_risk_threshold['F'])) &\n",
        "    (rfm['M_quartile'].between(*at_risk_threshold['M'])), 'Segment'] = 'At-Risk Customers'\n",
        "\n",
        "rfm.loc[\n",
        "    (rfm['R_quartile'].between(*churned_customer_threshold['R'])) &\n",
        "    (rfm['F_quartile'].between(*churned_customer_threshold['F'])) &\n",
        "    (rfm['M_quartile'].between(*churned_customer_threshold['M'])), 'Segment'] = 'Churned Customers'\n",
        "\n",
        "# Displaying the segment distribution\n",
        "print(rfm['Segment'].value_counts())\n",
        "\n",
        "# Displaying the first few rows of the updated DataFrame\n",
        "rfm.head()\n"
      ]
    },
    {
      "cell_type": "markdown",
      "metadata": {
        "id": "UrMdypIVWO3L"
      },
      "source": [
        "Based on the typical profiles, here are some strategies for each segment:\n",
        "\n",
        "1. High-Value Customers (Low Recency, High Frequency, High Monetary)\n",
        "Loyalty Programs: Offer exclusive rewards or loyalty programs to enhance their buying experience.\n",
        "Upsell and Cross-sell: Recommend premium products or complementary items as they are more likely to make frequent and high-value purchases.\n",
        "Personalized Communication: Engage with personalized emails or messages that reflect their interests and past purchasing behavior.\n",
        "Exclusive Offers: Provide early access to new products or exclusive deals to make them feel valued.\n",
        "2. Loyal Customers (Moderate to Low Recency, High Frequency, Moderate Monetary)\n",
        "Engagement Campaigns: Run regular engagement campaigns to maintain their interest and encourage continuous interaction with your brand.\n",
        "Feedback and Reviews: Encourage them to provide feedback or reviews, enhancing their sense of belonging to the brand community.\n",
        "Referral Incentives: Implement referral programs as loyal customers can be great brand ambassadors.\n",
        "3. Potential Loyalists (Low Recency, Moderate Frequency, Moderate Monetary)\n",
        "Welcome Offers: Acknowledge their recent interaction with welcome-back offers or discounts on their next purchase.\n",
        "Product Recommendations: Use their past purchase history to recommend products, increasing the likelihood of repeat purchases.\n",
        "Membership Programs: Introduce them to membership programs that offer incremental benefits with more purchases.\n",
        "4. New Customers (Low Recency, Low Frequency, Low to Moderate Monetary)\n",
        "First-Time Buyer Offers: Provide special offers or discounts on their next purchase to encourage them to come back.\n",
        "Onboarding Series: Use an email onboarding series to educate them about different products and offers.\n",
        "Social Proof: Share customer testimonials and reviews to build trust.\n",
        "5. At-Risk Customers (High Recency, Moderate Frequency, Moderate Monetary)\n",
        "Reactivation Campaigns: Send re-engagement emails or messages highlighting what they've missed.\n",
        "Survey for Feedback: Understand their inactivity reasons through feedback surveys and address their concerns.\n",
        "Win-Back Offers: Provide compelling offers or discounts to encourage them to make a purchase.\n",
        "6. Churned Customers (High Recency, Low Frequency, Low Monetary)\n",
        "Re-engagement Offers: Reach out with special offers to renew their interest.\n",
        "Market Research: Conduct research to understand their needs and preferences better.\n",
        "Improve Product/Service: Use insights from research to improve offerings and communicate these changes to them.\n"
      ]
    },
    {
      "cell_type": "markdown",
      "metadata": {
        "id": "sGPCYxFyYEpU"
      },
      "source": [
        "### 7. Visualization:"
      ]
    },
    {
      "cell_type": "code",
      "execution_count": null,
      "metadata": {
        "colab": {
          "base_uri": "https://localhost:8080/",
          "height": 1000
        },
        "id": "M9no7738YGlm",
        "outputId": "872bedbe-8464-4869-b3c1-d8ea2b7a2390",
        "scrolled": false
      },
      "outputs": [
        {
          "name": "stderr",
          "output_type": "stream",
          "text": [
            "C:\\Users\\gopan\\AppData\\Local\\Temp\\ipykernel_107212\\147145768.py:11: UserWarning: \n",
            "\n",
            "`distplot` is a deprecated function and will be removed in seaborn v0.14.0.\n",
            "\n",
            "Please adapt your code to use either `displot` (a figure-level function with\n",
            "similar flexibility) or `histplot` (an axes-level function for histograms).\n",
            "\n",
            "For a guide to updating your code to use the new functions, please see\n",
            "https://gist.github.com/mwaskom/de44147ed2974457ad6372750bbe5751\n",
            "\n",
            "  sns.distplot(rfm['Recency'])\n",
            "C:\\Users\\gopan\\AppData\\Local\\Temp\\ipykernel_107212\\147145768.py:16: UserWarning: \n",
            "\n",
            "`distplot` is a deprecated function and will be removed in seaborn v0.14.0.\n",
            "\n",
            "Please adapt your code to use either `displot` (a figure-level function with\n",
            "similar flexibility) or `histplot` (an axes-level function for histograms).\n",
            "\n",
            "For a guide to updating your code to use the new functions, please see\n",
            "https://gist.github.com/mwaskom/de44147ed2974457ad6372750bbe5751\n",
            "\n",
            "  sns.distplot(rfm['Frequency'])\n",
            "C:\\Users\\gopan\\AppData\\Local\\Temp\\ipykernel_107212\\147145768.py:21: UserWarning: \n",
            "\n",
            "`distplot` is a deprecated function and will be removed in seaborn v0.14.0.\n",
            "\n",
            "Please adapt your code to use either `displot` (a figure-level function with\n",
            "similar flexibility) or `histplot` (an axes-level function for histograms).\n",
            "\n",
            "For a guide to updating your code to use the new functions, please see\n",
            "https://gist.github.com/mwaskom/de44147ed2974457ad6372750bbe5751\n",
            "\n",
            "  sns.distplot(rfm['Monetary'])\n"
          ]
        },
        {
          "data": {
            "image/png": "[encoded data removed]",
            "text/plain": [
              "<Figure size 1500x500 with 3 Axes>"
            ]
          },
          "metadata": {},
          "output_type": "display_data"
        },
        {
          "data": {
            "image/png": "[encoded data removed]",
            "text/plain": [
              "<Figure size 1500x500 with 3 Axes>"
            ]
          },
          "metadata": {},
          "output_type": "display_data"
        }
      ],
      "source": [
        "import matplotlib.pyplot as plt\n",
        "import seaborn as sns\n",
        "\n",
        "# Assuming 'rfm' is your DataFrame with RFM scores and 'Cluster' column\n",
        "\n",
        "# 1. RFM Distribution Plots\n",
        "plt.figure(figsize=(15, 5))\n",
        "\n",
        "# Recency Distribution\n",
        "plt.subplot(1, 3, 1)\n",
        "sns.distplot(rfm['Recency'])\n",
        "plt.title('Recency Distribution')\n",
        "\n",
        "# Frequency Distribution\n",
        "plt.subplot(1, 3, 2)\n",
        "sns.distplot(rfm['Frequency'])\n",
        "plt.title('Frequency Distribution')\n",
        "\n",
        "# Monetary Distribution\n",
        "plt.subplot(1, 3, 3)\n",
        "sns.distplot(rfm['Monetary'])\n",
        "plt.title('Monetary Distribution')\n",
        "\n",
        "plt.tight_layout()\n",
        "plt.show()\n",
        "\n",
        "# 2. RFM Cluster Scatter Plots\n",
        "plt.figure(figsize=(15, 5))\n",
        "\n",
        "# Scatter plot for Recency vs Frequency\n",
        "plt.subplot(1, 3, 1)\n",
        "sns.scatterplot(x='Recency', y='Frequency', hue='Cluster', data=rfm, palette='viridis')\n",
        "plt.title('Recency vs Frequency')\n",
        "\n",
        "# Scatter plot for Recency vs Monetary\n",
        "plt.subplot(1, 3, 2)\n",
        "sns.scatterplot(x='Recency', y='Monetary', hue='Cluster', data=rfm, palette='viridis')\n",
        "plt.title('Recency vs Monetary')\n",
        "\n",
        "# Scatter plot for Frequency vs Monetary\n",
        "plt.subplot(1, 3, 3)\n",
        "sns.scatterplot(x='Frequency', y='Monetary', hue='Cluster', data=rfm, palette='viridis')\n",
        "plt.title('Frequency vs Monetary')\n",
        "\n",
        "plt.tight_layout()\n",
        "plt.show()\n",
        "\n",
        "\n"
      ]
    },
    {
      "cell_type": "markdown",
      "metadata": {
        "id": "7cZiAkj_YzqI"
      },
      "source": [
        "Explanation:\n",
        "RFM Distribution Plots: These plots provide an overview of how Recency, Frequency, and Monetary values are distributed across your customer base.\n",
        "\n",
        "RFM Cluster Scatter Plots: By plotting RFM metrics against each other and coloring points by cluster, you can visualize how the clusters are separated in the RFM space.\n"
      ]
    },
    {
      "cell_type": "markdown",
      "metadata": {
        "id": "JptHBazCwjTp"
      },
      "source": [
        "# * ANSWERS TO QUESTIONS *"
      ]
    },
    {
      "cell_type": "markdown",
      "metadata": {
        "id": "5tRm3fCDwjTp"
      },
      "source": [
        "# 1. Data Overview"
      ]
    },
    {
      "cell_type": "code",
      "execution_count": null,
      "metadata": {
        "id": "cfaCfp2wwjTp",
        "outputId": "4196b56e-7c7d-443e-fe2c-2a0317611b2c"
      },
      "outputs": [
        {
          "name": "stdout",
          "output_type": "stream",
          "text": [
            "Dataset Size:\n",
            "Rows: 406829 Columns: 9\n",
            "\n",
            "Column Descriptions:\n",
            "InvoiceNo: object\n",
            "StockCode: object\n",
            "Description: object\n",
            "Quantity: int64\n",
            "InvoiceDate: datetime64[ns]\n",
            "UnitPrice: float64\n",
            "CustomerID: int32\n",
            "Country: object\n",
            "TotalPrice: float64\n",
            "\n",
            "Date Ranges:\n",
            "InvoiceDate: 2010-12-01 08:26:00 to 2011-12-09 12:50:00\n"
          ]
        },
        {
          "name": "stderr",
          "output_type": "stream",
          "text": [
            "C:\\Users\\gopan\\AppData\\Local\\Temp\\ipykernel_56468\\2933504455.py:13: SettingWithCopyWarning: \n",
            "A value is trying to be set on a copy of a slice from a DataFrame.\n",
            "Try using .loc[row_indexer,col_indexer] = value instead\n",
            "\n",
            "See the caveats in the documentation: https://pandas.pydata.org/pandas-docs/stable/user_guide/indexing.html#returning-a-view-versus-a-copy\n",
            "  data[col] = pd.to_datetime(data[col])  # Convert to datetime if possible\n"
          ]
        }
      ],
      "source": [
        "# Size of the dataset\n",
        "dataset_size = data.shape\n",
        "\n",
        "# Overview of each column\n",
        "column_description = data.dtypes\n",
        "\n",
        "# Checking for date or timestamp columns to identify the time period covered\n",
        "date_columns = data.select_dtypes(include=['datetime', 'object']).columns  # Checking for datetime or object types\n",
        "date_range = {}\n",
        "for col in date_columns:\n",
        "    try:\n",
        "        data[col] = pd.to_datetime(data[col])  # Convert to datetime if possible\n",
        "        date_range[col] = [data[col].min(), data[col].max()]\n",
        "    except:\n",
        "        continue  # Skip columns that cannot be converted to datetime\n",
        "\n",
        "# Printing Dataset Size\n",
        "print(\"Dataset Size:\")\n",
        "print(\"Rows:\", dataset_size[0], \"Columns:\", dataset_size[1])\n",
        "\n",
        "# Printing Column Descriptions\n",
        "print(\"\\nColumn Descriptions:\")\n",
        "for column, dtype in column_description.items():\n",
        "    print(f\"{column}: {dtype}\")\n",
        "\n",
        "# Printing Date Ranges\n",
        "print(\"\\nDate Ranges:\")\n",
        "for column, ranges in date_range.items():\n",
        "    print(f\"{column}: {ranges[0]} to {ranges[1]}\")\n",
        ""
      ]
    },
    {
      "cell_type": "markdown",
      "metadata": {
        "id": "sZBzRWlqwjTp"
      },
      "source": [
        "NOTE :\n",
        "    1. The size of the dataset in terms of the number of rows and columns are 406829 Rows and 9 Columns.\n",
        "    2."
      ]
    },
    {
      "cell_type": "markdown",
      "metadata": {
        "id": "B4QXgAHkwjTp"
      },
      "source": [
        "# 2. Customer Analysis"
      ]
    },
    {
      "cell_type": "code",
      "execution_count": null,
      "metadata": {
        "colab": {
          "base_uri": "https://localhost:8080/"
        },
        "id": "vbfOVry4lXgs",
        "outputId": "22f7ddc0-f633-485a-cb6e-81db21e9e00a"
      },
      "outputs": [
        {
          "name": "stdout",
          "output_type": "stream",
          "text": [
            "Number of Unique Customers: 4372\n",
            "\n",
            "Distribution of Orders Per Customer:\n",
            " count    4372.000000\n",
            "mean        5.075480\n",
            "std         9.338754\n",
            "min         1.000000\n",
            "25%         1.000000\n",
            "50%         3.000000\n",
            "75%         5.000000\n",
            "max       248.000000\n",
            "Name: InvoiceNo, dtype: float64\n",
            "\n",
            "Top 5 Customers by Order Count:\n",
            " CustomerID\n",
            "14911    248\n",
            "12748    224\n",
            "17841    169\n",
            "14606    128\n",
            "13089    118\n",
            "Name: InvoiceNo, dtype: int64\n"
          ]
        }
      ],
      "source": [
        "# Counting unique customers\n",
        "unique_customers = data['CustomerID'].nunique()\n",
        "\n",
        "# Number of orders per customer\n",
        "orders_per_customer = data.groupby('CustomerID')['InvoiceNo'].nunique()\n",
        "\n",
        "# Distribution summary\n",
        "orders_distribution_summary = orders_per_customer.describe()\n",
        "\n",
        "# Identifying the top 5 customers by order count\n",
        "top_5_customers_by_orders = orders_per_customer.sort_values(ascending=False).head(5)\n",
        "\n",
        "# Printing output:\n",
        "print(\"Number of Unique Customers:\", unique_customers)\n",
        "print(\"\\nDistribution of Orders Per Customer:\\n\", orders_distribution_summary)\n",
        "print(\"\\nTop 5 Customers by Order Count:\\n\", top_5_customers_by_orders)\n"
      ]
    },
    {
      "cell_type": "markdown",
      "metadata": {
        "id": "EXGyX5DnwjTq"
      },
      "source": [
        "# 3. Product Analysis"
      ]
    },
    {
      "cell_type": "code",
      "execution_count": null,
      "metadata": {
        "colab": {
          "base_uri": "https://localhost:8080/"
        },
        "id": "VpY_aadOnYID",
        "outputId": "39c187d8-19b8-41ff-acc7-f3d1f16aad7e"
      },
      "outputs": [
        {
          "name": "stdout",
          "output_type": "stream",
          "text": [
            "Top 10 Most Frequently Purchased Products:\n",
            " WHITE HANGING HEART T-LIGHT HOLDER    2369\n",
            "REGENCY CAKESTAND 3 TIER              2200\n",
            "JUMBO BAG RED RETROSPOT               2159\n",
            "PARTY BUNTING                         1727\n",
            "LUNCH BAG RED RETROSPOT               1638\n",
            "ASSORTED COLOUR BIRD ORNAMENT         1501\n",
            "SET OF 3 CAKE TINS PANTRY DESIGN      1473\n",
            "PACK OF 72 RETROSPOT CAKE CASES       1385\n",
            "LUNCH BAG  BLACK SKULL.               1350\n",
            "NATURAL SLATE HEART CHALKBOARD        1280\n",
            "Name: Description, dtype: int64\n",
            "\n",
            "Average Price of Products: 4.61\n",
            "\n",
            "Product Generating the Highest Revenue:\n",
            " Description\n",
            "DOTCOM POSTAGE    206245.48\n",
            "Name: Revenue, dtype: float64\n"
          ]
        }
      ],
      "source": [
        "# Identifying top 10 most frequently purchased products\n",
        "top_10_products = data['Description'].value_counts().head(10)\n",
        "\n",
        "# Determining the average price of products\n",
        "average_price = data['UnitPrice'].mean()\n",
        "\n",
        "# Calculating revenue for each product\n",
        "data['Revenue'] = data['Quantity'] * data['UnitPrice']\n",
        "\n",
        "# Since we don't have explicit product categories, we used 'Description' to approximate\n",
        "# Summing revenue by product description\n",
        "revenue_per_product = data.groupby('Description')['Revenue'].sum()\n",
        "\n",
        "# Determinig the product generating the highest revenue\n",
        "top_revenue_product = revenue_per_product.sort_values(ascending=False).head(1)\n",
        "\n",
        "# To display the results, you can use:\n",
        "print(\"Top 10 Most Frequently Purchased Products:\\n\", top_10_products)\n",
        "print(\"\\nAverage Price of Products: {:.2f}\".format(average_price))\n",
        "print(\"\\nProduct Generating the Highest Revenue:\\n\", top_revenue_product)\n"
      ]
    },
    {
      "cell_type": "markdown",
      "metadata": {
        "id": "PYOwE4dgwjTq"
      },
      "source": [
        "# 4. Time Analysis"
      ]
    },
    {
      "cell_type": "code",
      "execution_count": null,
      "metadata": {
        "colab": {
          "base_uri": "https://localhost:8080/"
        },
        "id": "3434b7UOnb3-",
        "outputId": "867a244f-b066-4a3c-af49-08a8a160a737"
      },
      "outputs": [
        {
          "name": "stdout",
          "output_type": "stream",
          "text": [
            "Orders by Day of Week:\n",
            " Thursday     103857\n",
            "Tuesday      101808\n",
            "Monday        95111\n",
            "Wednesday     94565\n",
            "Friday        82193\n",
            "Sunday        64375\n",
            "Name: DayOfWeek, dtype: int64\n",
            "\n",
            "Orders by Hour of Day:\n",
            " 12    78709\n",
            "15    77519\n",
            "13    72259\n",
            "14    67471\n",
            "11    57674\n",
            "16    54516\n",
            "10    49037\n",
            "9     34332\n",
            "17    28509\n",
            "8      8909\n",
            "18     7974\n",
            "19     3705\n",
            "20      871\n",
            "7       383\n",
            "6        41\n",
            "Name: HourOfDay, dtype: int64\n",
            "\n",
            "Average Order Processing Time: 34.86 hours\n",
            "\n",
            "Orders by Month:\n",
            " Year  Month\n",
            "2010  12       42481\n",
            "2011  1        35147\n",
            "      2        27707\n",
            "      3        36748\n",
            "      4        29916\n",
            "      5        37030\n",
            "      6        36874\n",
            "      7        39518\n",
            "      8        35284\n",
            "      9        50226\n",
            "      10       60742\n",
            "      11       84711\n",
            "      12       25525\n",
            "dtype: int64\n"
          ]
        }
      ],
      "source": [
        "# Assuming 'data' is your DataFrame and 'InvoiceDate' is the column with date and time information\n",
        "data['InvoiceDate'] = pd.to_datetime(data['InvoiceDate'])\n",
        "\n",
        "# Extracting day of week and hour for order placement analysis\n",
        "data['DayOfWeek'] = data['InvoiceDate'].dt.day_name()\n",
        "data['HourOfDay'] = data['InvoiceDate'].dt.hour\n",
        "\n",
        "# Analyzing orders by day of week\n",
        "orders_by_day = data['DayOfWeek'].value_counts()\n",
        "\n",
        "# Analyzing orders by time of day\n",
        "orders_by_hour = data['HourOfDay'].value_counts()\n",
        "\n",
        "# Calculating average order processing time\n",
        "data_sorted = data.sort_values(['CustomerID', 'InvoiceDate'])\n",
        "data_sorted['PreviousInvoiceDate'] = data_sorted.groupby('CustomerID')['InvoiceDate'].shift(1)\n",
        "data_sorted['ProcessingTime'] = (data_sorted['InvoiceDate'] - data_sorted['PreviousInvoiceDate']).dt.total_seconds() / 3600\n",
        "average_processing_time = data_sorted['ProcessingTime'].mean()\n",
        "\n",
        "# For seasonal trends, extracting month and year\n",
        "data['Month'] = data['InvoiceDate'].dt.month\n",
        "data['Year'] = data['InvoiceDate'].dt.year\n",
        "orders_by_month = data.groupby(['Year', 'Month']).size()\n",
        "\n",
        "# Displaying the results\n",
        "print(\"Orders by Day of Week:\\n\", orders_by_day)\n",
        "print(\"\\nOrders by Hour of Day:\\n\", orders_by_hour)\n",
        "\n",
        "# Displaying the average processing time\n",
        "print(f\"\\nAverage Order Processing Time: {average_processing_time:.2f} hours\")\n",
        "\n",
        "print(\"\\nOrders by Month:\\n\", orders_by_month)\n"
      ]
    },
    {
      "cell_type": "markdown",
      "metadata": {
        "id": "ktAv3_1CwjTq"
      },
      "source": [
        "# 5. Geographical Analysis"
      ]
    },
    {
      "cell_type": "code",
      "execution_count": null,
      "metadata": {
        "colab": {
          "base_uri": "https://localhost:8080/"
        },
        "id": "X6XoqvAsorX6",
        "outputId": "cec8659c-98b6-418f-d58b-730d68c5ab95"
      },
      "outputs": [
        {
          "name": "stdout",
          "output_type": "stream",
          "text": [
            "Top 5 Countries with the Highest Number of Orders:\n",
            " United Kingdom    361878\n",
            "Germany             9495\n",
            "France              8491\n",
            "EIRE                7485\n",
            "Spain               2533\n",
            "Name: Country, dtype: int64\n",
            "\n",
            "Average Order Value by Country:\n",
            " Country\n",
            "Netherlands             2818.431089\n",
            "Australia               1986.627101\n",
            "Lebanon                 1693.880000\n",
            "Japan                   1262.165000\n",
            "Israel                  1165.708333\n",
            "Brazil                  1143.600000\n",
            "RSA                     1002.310000\n",
            "Singapore                912.039000\n",
            "Denmark                  893.720952\n",
            "Norway                   879.086500\n",
            "Sweden                   795.563261\n",
            "Greece                   785.086667\n",
            "Switzerland              785.061972\n",
            "EIRE                     784.593166\n",
            "Cyprus                   647.314500\n",
            "United Arab Emirates     634.093333\n",
            "Iceland                  615.714286\n",
            "Canada                   611.063333\n",
            "Channel Islands          608.675455\n",
            "Austria                  534.437895\n",
            "Spain                    521.662667\n",
            "Finland                  465.140417\n",
            "France                   429.504017\n",
            "Lithuania                415.265000\n",
            "Portugal                 415.140143\n",
            "Germany                  367.658723\n",
            "Belgium                  343.789580\n",
            "United Kingdom           340.830609\n",
            "Unspecified              333.383750\n",
            "Italy                    307.100182\n",
            "Poland                   300.547500\n",
            "Bahrain                  274.200000\n",
            "European Community       258.350000\n",
            "Malta                    250.547000\n",
            "USA                      247.274286\n",
            "Czech Republic           141.544000\n",
            "Saudi Arabia              65.585000\n",
            "dtype: float64\n"
          ]
        },
        {
          "name": "stderr",
          "output_type": "stream",
          "text": [
            "C:\\Users\\gopan\\AppData\\Local\\Temp\\ipykernel_56468\\42798071.py:6: SettingWithCopyWarning: \n",
            "A value is trying to be set on a copy of a slice from a DataFrame.\n",
            "Try using .loc[row_indexer,col_indexer] = value instead\n",
            "\n",
            "See the caveats in the documentation: https://pandas.pydata.org/pandas-docs/stable/user_guide/indexing.html#returning-a-view-versus-a-copy\n",
            "  data['OrderValue'] = data['Quantity'] * data['UnitPrice']\n"
          ]
        }
      ],
      "source": [
        "# Identifying the top 5 countries with the highest number of orders\n",
        "top_5_countries_orders = data['Country'].value_counts().head(5)\n",
        "\n",
        "# Calculating the average order value for each country\n",
        "# Calculating total revenue for each order\n",
        "data['OrderValue'] = data['Quantity'] * data['UnitPrice']\n",
        "\n",
        "# Summing up order values per country\n",
        "total_order_value_per_country = data.groupby('Country')['OrderValue'].sum()\n",
        "# Counting number of orders per country\n",
        "number_of_orders_per_country = data.groupby('Country')['InvoiceNo'].nunique()\n",
        "# Calculating average order value\n",
        "average_order_value_per_country = total_order_value_per_country / number_of_orders_per_country\n",
        "\n",
        "# Displaying the results\n",
        "print(\"Top 5 Countries with the Highest Number of Orders:\\n\", top_5_countries_orders)\n",
        "print(\"\\nAverage Order Value by Country:\\n\", average_order_value_per_country.sort_values(ascending=False))\n"
      ]
    },
    {
      "cell_type": "markdown",
      "metadata": {
        "id": "4IP9Px-6wjTq"
      },
      "source": [
        "NOTE : Is there a correlation between the country of the customer and the average order\n",
        "value?\n",
        "   > Certain countries, like the Netherlands, Australia, and Lebanon, have higher average order values compared to others.\n",
        "There is a wide range of average order values, from over 2800 in the Netherlands to under 250 in the Czech Republic.\n",
        "The United Kingdom, which may be where the majority of customers are based (assuming from a common e-commerce dataset pattern), has a relatively lower average order value compared to the top countries listed."
      ]
    },
    {
      "cell_type": "markdown",
      "metadata": {
        "id": "fgMRJOb8wjTq"
      },
      "source": [
        "# 6.Payment Analysis"
      ]
    },
    {
      "cell_type": "markdown",
      "metadata": {
        "id": "48MSSiHiwjTr"
      },
      "source": [
        "NOTE : THERE IS NO DATASET FOR PAYMENT METHOD , THIS WOULD BE THE NECESSARY STEPS IF THE PAYMENT METHOD WAS AVAILABLE IN THE DATASET."
      ]
    },
    {
      "cell_type": "code",
      "execution_count": null,
      "metadata": {
        "id": "1z7CwQJFwjTr"
      },
      "outputs": [],
      "source": [
        "# common payment methods\n",
        "payment_method_counts = data['PaymentMethod'].value_counts()\n",
        "\n",
        "# To assess the relationship between payment method and order amount\n",
        "average_order_amount_by_payment = data.groupby('PaymentMethod')['TotalOrderValue'].mean()\n"
      ]
    },
    {
      "cell_type": "markdown",
      "metadata": {
        "id": "rGekFedUwjTr"
      },
      "source": [
        "# 7.Customer Behavior"
      ]
    },
    {
      "cell_type": "code",
      "execution_count": null,
      "metadata": {
        "colab": {
          "base_uri": "https://localhost:8080/"
        },
        "id": "ca6HuRyTpK96",
        "outputId": "7e9f8d6c-14e2-4f30-e541-b2e2b792207f"
      },
      "outputs": [
        {
          "name": "stdout",
          "output_type": "stream",
          "text": [
            "Average Customer Activity Duration: 133 days 17:25:29.204025618\n"
          ]
        }
      ],
      "source": [
        "# Calculating the first and last purchase date for each customer\n",
        "first_purchase = data.groupby('CustomerID')['InvoiceDate'].min()\n",
        "last_purchase = data.groupby('CustomerID')['InvoiceDate'].max()\n",
        "\n",
        "# Calculating the duration of activity for each customer\n",
        "customer_activity_duration = last_purchase - first_purchase\n",
        "\n",
        "# Calculating the average activity duration\n",
        "average_activity_duration = customer_activity_duration.mean()\n",
        "\n",
        "print(\"Average Customer Activity Duration:\", average_activity_duration)"
      ]
    },
    {
      "cell_type": "code",
      "execution_count": null,
      "metadata": {
        "scrolled": false,
        "id": "FG5YCghywjTr",
        "outputId": "97f8157a-01a8-40cc-ddbf-d1e1cf4d46e0"
      },
      "outputs": [
        {
          "data": {
            "text/html": [
              "<div>\n",
              "<style scoped>\n",
              "    .dataframe tbody tr th:only-of-type {\n",
              "        vertical-align: middle;\n",
              "    }\n",
              "\n",
              "    .dataframe tbody tr th {\n",
              "        vertical-align: top;\n",
              "    }\n",
              "\n",
              "    .dataframe thead th {\n",
              "        text-align: right;\n",
              "    }\n",
              "</style>\n",
              "<table border=\"1\" class=\"dataframe\">\n",
              "  <thead>\n",
              "    <tr style=\"text-align: right;\">\n",
              "      <th></th>\n",
              "      <th>InvoiceNo</th>\n",
              "      <th>StockCode</th>\n",
              "      <th>Description</th>\n",
              "      <th>Quantity</th>\n",
              "      <th>InvoiceDate</th>\n",
              "      <th>UnitPrice</th>\n",
              "      <th>CustomerID</th>\n",
              "      <th>Country</th>\n",
              "      <th>Revenue</th>\n",
              "      <th>DayOfWeek</th>\n",
              "      <th>HourOfDay</th>\n",
              "      <th>Month</th>\n",
              "      <th>Year</th>\n",
              "    </tr>\n",
              "  </thead>\n",
              "  <tbody>\n",
              "    <tr>\n",
              "      <th>0</th>\n",
              "      <td>536365</td>\n",
              "      <td>85123A</td>\n",
              "      <td>WHITE HANGING HEART T-LIGHT HOLDER</td>\n",
              "      <td>6</td>\n",
              "      <td>2010-12-01 08:26:00</td>\n",
              "      <td>2.55</td>\n",
              "      <td>17850.0</td>\n",
              "      <td>United Kingdom</td>\n",
              "      <td>15.30</td>\n",
              "      <td>Wednesday</td>\n",
              "      <td>8</td>\n",
              "      <td>12</td>\n",
              "      <td>2010</td>\n",
              "    </tr>\n",
              "    <tr>\n",
              "      <th>1</th>\n",
              "      <td>536365</td>\n",
              "      <td>71053</td>\n",
              "      <td>WHITE METAL LANTERN</td>\n",
              "      <td>6</td>\n",
              "      <td>2010-12-01 08:26:00</td>\n",
              "      <td>3.39</td>\n",
              "      <td>17850.0</td>\n",
              "      <td>United Kingdom</td>\n",
              "      <td>20.34</td>\n",
              "      <td>Wednesday</td>\n",
              "      <td>8</td>\n",
              "      <td>12</td>\n",
              "      <td>2010</td>\n",
              "    </tr>\n",
              "    <tr>\n",
              "      <th>2</th>\n",
              "      <td>536365</td>\n",
              "      <td>84406B</td>\n",
              "      <td>CREAM CUPID HEARTS COAT HANGER</td>\n",
              "      <td>8</td>\n",
              "      <td>2010-12-01 08:26:00</td>\n",
              "      <td>2.75</td>\n",
              "      <td>17850.0</td>\n",
              "      <td>United Kingdom</td>\n",
              "      <td>22.00</td>\n",
              "      <td>Wednesday</td>\n",
              "      <td>8</td>\n",
              "      <td>12</td>\n",
              "      <td>2010</td>\n",
              "    </tr>\n",
              "    <tr>\n",
              "      <th>3</th>\n",
              "      <td>536365</td>\n",
              "      <td>84029G</td>\n",
              "      <td>KNITTED UNION FLAG HOT WATER BOTTLE</td>\n",
              "      <td>6</td>\n",
              "      <td>2010-12-01 08:26:00</td>\n",
              "      <td>3.39</td>\n",
              "      <td>17850.0</td>\n",
              "      <td>United Kingdom</td>\n",
              "      <td>20.34</td>\n",
              "      <td>Wednesday</td>\n",
              "      <td>8</td>\n",
              "      <td>12</td>\n",
              "      <td>2010</td>\n",
              "    </tr>\n",
              "    <tr>\n",
              "      <th>4</th>\n",
              "      <td>536365</td>\n",
              "      <td>84029E</td>\n",
              "      <td>RED WOOLLY HOTTIE WHITE HEART.</td>\n",
              "      <td>6</td>\n",
              "      <td>2010-12-01 08:26:00</td>\n",
              "      <td>3.39</td>\n",
              "      <td>17850.0</td>\n",
              "      <td>United Kingdom</td>\n",
              "      <td>20.34</td>\n",
              "      <td>Wednesday</td>\n",
              "      <td>8</td>\n",
              "      <td>12</td>\n",
              "      <td>2010</td>\n",
              "    </tr>\n",
              "  </tbody>\n",
              "</table>\n",
              "</div>"
            ],
            "text/plain": [
              "  InvoiceNo StockCode                          Description  Quantity  \\\n",
              "0    536365    85123A   WHITE HANGING HEART T-LIGHT HOLDER         6   \n",
              "1    536365     71053                  WHITE METAL LANTERN         6   \n",
              "2    536365    84406B       CREAM CUPID HEARTS COAT HANGER         8   \n",
              "3    536365    84029G  KNITTED UNION FLAG HOT WATER BOTTLE         6   \n",
              "4    536365    84029E       RED WOOLLY HOTTIE WHITE HEART.         6   \n",
              "\n",
              "          InvoiceDate  UnitPrice  CustomerID         Country  Revenue  \\\n",
              "0 2010-12-01 08:26:00       2.55     17850.0  United Kingdom    15.30   \n",
              "1 2010-12-01 08:26:00       3.39     17850.0  United Kingdom    20.34   \n",
              "2 2010-12-01 08:26:00       2.75     17850.0  United Kingdom    22.00   \n",
              "3 2010-12-01 08:26:00       3.39     17850.0  United Kingdom    20.34   \n",
              "4 2010-12-01 08:26:00       3.39     17850.0  United Kingdom    20.34   \n",
              "\n",
              "   DayOfWeek  HourOfDay  Month  Year  \n",
              "0  Wednesday          8     12  2010  \n",
              "1  Wednesday          8     12  2010  \n",
              "2  Wednesday          8     12  2010  \n",
              "3  Wednesday          8     12  2010  \n",
              "4  Wednesday          8     12  2010  "
            ]
          },
          "execution_count": 23,
          "metadata": {},
          "output_type": "execute_result"
        }
      ],
      "source": [
        "data.head()"
      ]
    },
    {
      "cell_type": "code",
      "execution_count": null,
      "metadata": {
        "id": "xmuPP4muwjTr"
      },
      "outputs": [],
      "source": [
        "# Creating a order value column\n",
        "data['OrderValue']= data['Quantity']*data['UnitPrice']"
      ]
    },
    {
      "cell_type": "code",
      "execution_count": null,
      "metadata": {
        "id": "1B_C-tw-wjTr",
        "outputId": "e7dfd111-d152-4b87-87d5-7de892867ac5"
      },
      "outputs": [
        {
          "data": {
            "text/html": [
              "<div>\n",
              "<style scoped>\n",
              "    .dataframe tbody tr th:only-of-type {\n",
              "        vertical-align: middle;\n",
              "    }\n",
              "\n",
              "    .dataframe tbody tr th {\n",
              "        vertical-align: top;\n",
              "    }\n",
              "\n",
              "    .dataframe thead th {\n",
              "        text-align: right;\n",
              "    }\n",
              "</style>\n",
              "<table border=\"1\" class=\"dataframe\">\n",
              "  <thead>\n",
              "    <tr style=\"text-align: right;\">\n",
              "      <th></th>\n",
              "      <th>InvoiceNo</th>\n",
              "      <th>StockCode</th>\n",
              "      <th>Description</th>\n",
              "      <th>Quantity</th>\n",
              "      <th>InvoiceDate</th>\n",
              "      <th>UnitPrice</th>\n",
              "      <th>CustomerID</th>\n",
              "      <th>Country</th>\n",
              "      <th>Revenue</th>\n",
              "      <th>DayOfWeek</th>\n",
              "      <th>HourOfDay</th>\n",
              "      <th>Month</th>\n",
              "      <th>Year</th>\n",
              "      <th>OrderValue</th>\n",
              "    </tr>\n",
              "  </thead>\n",
              "  <tbody>\n",
              "    <tr>\n",
              "      <th>0</th>\n",
              "      <td>536365</td>\n",
              "      <td>85123A</td>\n",
              "      <td>WHITE HANGING HEART T-LIGHT HOLDER</td>\n",
              "      <td>6</td>\n",
              "      <td>2010-12-01 08:26:00</td>\n",
              "      <td>2.55</td>\n",
              "      <td>17850.0</td>\n",
              "      <td>United Kingdom</td>\n",
              "      <td>15.30</td>\n",
              "      <td>Wednesday</td>\n",
              "      <td>8</td>\n",
              "      <td>12</td>\n",
              "      <td>2010</td>\n",
              "      <td>15.30</td>\n",
              "    </tr>\n",
              "    <tr>\n",
              "      <th>1</th>\n",
              "      <td>536365</td>\n",
              "      <td>71053</td>\n",
              "      <td>WHITE METAL LANTERN</td>\n",
              "      <td>6</td>\n",
              "      <td>2010-12-01 08:26:00</td>\n",
              "      <td>3.39</td>\n",
              "      <td>17850.0</td>\n",
              "      <td>United Kingdom</td>\n",
              "      <td>20.34</td>\n",
              "      <td>Wednesday</td>\n",
              "      <td>8</td>\n",
              "      <td>12</td>\n",
              "      <td>2010</td>\n",
              "      <td>20.34</td>\n",
              "    </tr>\n",
              "    <tr>\n",
              "      <th>2</th>\n",
              "      <td>536365</td>\n",
              "      <td>84406B</td>\n",
              "      <td>CREAM CUPID HEARTS COAT HANGER</td>\n",
              "      <td>8</td>\n",
              "      <td>2010-12-01 08:26:00</td>\n",
              "      <td>2.75</td>\n",
              "      <td>17850.0</td>\n",
              "      <td>United Kingdom</td>\n",
              "      <td>22.00</td>\n",
              "      <td>Wednesday</td>\n",
              "      <td>8</td>\n",
              "      <td>12</td>\n",
              "      <td>2010</td>\n",
              "      <td>22.00</td>\n",
              "    </tr>\n",
              "    <tr>\n",
              "      <th>3</th>\n",
              "      <td>536365</td>\n",
              "      <td>84029G</td>\n",
              "      <td>KNITTED UNION FLAG HOT WATER BOTTLE</td>\n",
              "      <td>6</td>\n",
              "      <td>2010-12-01 08:26:00</td>\n",
              "      <td>3.39</td>\n",
              "      <td>17850.0</td>\n",
              "      <td>United Kingdom</td>\n",
              "      <td>20.34</td>\n",
              "      <td>Wednesday</td>\n",
              "      <td>8</td>\n",
              "      <td>12</td>\n",
              "      <td>2010</td>\n",
              "      <td>20.34</td>\n",
              "    </tr>\n",
              "    <tr>\n",
              "      <th>4</th>\n",
              "      <td>536365</td>\n",
              "      <td>84029E</td>\n",
              "      <td>RED WOOLLY HOTTIE WHITE HEART.</td>\n",
              "      <td>6</td>\n",
              "      <td>2010-12-01 08:26:00</td>\n",
              "      <td>3.39</td>\n",
              "      <td>17850.0</td>\n",
              "      <td>United Kingdom</td>\n",
              "      <td>20.34</td>\n",
              "      <td>Wednesday</td>\n",
              "      <td>8</td>\n",
              "      <td>12</td>\n",
              "      <td>2010</td>\n",
              "      <td>20.34</td>\n",
              "    </tr>\n",
              "  </tbody>\n",
              "</table>\n",
              "</div>"
            ],
            "text/plain": [
              "  InvoiceNo StockCode                          Description  Quantity  \\\n",
              "0    536365    85123A   WHITE HANGING HEART T-LIGHT HOLDER         6   \n",
              "1    536365     71053                  WHITE METAL LANTERN         6   \n",
              "2    536365    84406B       CREAM CUPID HEARTS COAT HANGER         8   \n",
              "3    536365    84029G  KNITTED UNION FLAG HOT WATER BOTTLE         6   \n",
              "4    536365    84029E       RED WOOLLY HOTTIE WHITE HEART.         6   \n",
              "\n",
              "          InvoiceDate  UnitPrice  CustomerID         Country  Revenue  \\\n",
              "0 2010-12-01 08:26:00       2.55     17850.0  United Kingdom    15.30   \n",
              "1 2010-12-01 08:26:00       3.39     17850.0  United Kingdom    20.34   \n",
              "2 2010-12-01 08:26:00       2.75     17850.0  United Kingdom    22.00   \n",
              "3 2010-12-01 08:26:00       3.39     17850.0  United Kingdom    20.34   \n",
              "4 2010-12-01 08:26:00       3.39     17850.0  United Kingdom    20.34   \n",
              "\n",
              "   DayOfWeek  HourOfDay  Month  Year  OrderValue  \n",
              "0  Wednesday          8     12  2010       15.30  \n",
              "1  Wednesday          8     12  2010       20.34  \n",
              "2  Wednesday          8     12  2010       22.00  \n",
              "3  Wednesday          8     12  2010       20.34  \n",
              "4  Wednesday          8     12  2010       20.34  "
            ]
          },
          "execution_count": 27,
          "metadata": {},
          "output_type": "execute_result"
        }
      ],
      "source": [
        "data.head()"
      ]
    },
    {
      "cell_type": "code",
      "execution_count": null,
      "metadata": {
        "colab": {
          "base_uri": "https://localhost:8080/"
        },
        "id": "7i6fOJ9ipiCL",
        "outputId": "3b11112c-c210-44cc-95dd-9fe87274a9c0"
      },
      "outputs": [
        {
          "data": {
            "text/html": [
              "<div>\n",
              "<style scoped>\n",
              "    .dataframe tbody tr th:only-of-type {\n",
              "        vertical-align: middle;\n",
              "    }\n",
              "\n",
              "    .dataframe tbody tr th {\n",
              "        vertical-align: top;\n",
              "    }\n",
              "\n",
              "    .dataframe thead th {\n",
              "        text-align: right;\n",
              "    }\n",
              "</style>\n",
              "<table border=\"1\" class=\"dataframe\">\n",
              "  <thead>\n",
              "    <tr style=\"text-align: right;\">\n",
              "      <th></th>\n",
              "      <th>Recency</th>\n",
              "      <th>Frequency</th>\n",
              "      <th>Monetary</th>\n",
              "    </tr>\n",
              "    <tr>\n",
              "      <th>CustomerID</th>\n",
              "      <th></th>\n",
              "      <th></th>\n",
              "      <th></th>\n",
              "    </tr>\n",
              "  </thead>\n",
              "  <tbody>\n",
              "    <tr>\n",
              "      <th>12346.0</th>\n",
              "      <td>326</td>\n",
              "      <td>2</td>\n",
              "      <td>0.00</td>\n",
              "    </tr>\n",
              "    <tr>\n",
              "      <th>12347.0</th>\n",
              "      <td>2</td>\n",
              "      <td>7</td>\n",
              "      <td>4310.00</td>\n",
              "    </tr>\n",
              "    <tr>\n",
              "      <th>12348.0</th>\n",
              "      <td>75</td>\n",
              "      <td>4</td>\n",
              "      <td>1797.24</td>\n",
              "    </tr>\n",
              "    <tr>\n",
              "      <th>12349.0</th>\n",
              "      <td>19</td>\n",
              "      <td>1</td>\n",
              "      <td>1757.55</td>\n",
              "    </tr>\n",
              "    <tr>\n",
              "      <th>12350.0</th>\n",
              "      <td>310</td>\n",
              "      <td>1</td>\n",
              "      <td>334.40</td>\n",
              "    </tr>\n",
              "  </tbody>\n",
              "</table>\n",
              "</div>"
            ],
            "text/plain": [
              "            Recency  Frequency  Monetary\n",
              "CustomerID                              \n",
              "12346.0         326          2      0.00\n",
              "12347.0           2          7   4310.00\n",
              "12348.0          75          4   1797.24\n",
              "12349.0          19          1   1757.55\n",
              "12350.0         310          1    334.40"
            ]
          },
          "execution_count": 28,
          "metadata": {},
          "output_type": "execute_result"
        }
      ],
      "source": [
        "# Performing RFM analysis\n",
        "# Assuming 'today' is the day after the latest date in the dataset\n",
        "latest_date = data['InvoiceDate'].max()\n",
        "today = latest_date + pd.Timedelta(days=1)\n",
        "\n",
        "# Recency: Days since last purchase\n",
        "recency = today - data.groupby('CustomerID')['InvoiceDate'].max()\n",
        "recency = recency.dt.days\n",
        "\n",
        "# Frequency: Total number of orders for each customer\n",
        "frequency = data.groupby('CustomerID')['InvoiceNo'].nunique()\n",
        "\n",
        "# As OrderValue column is already calculated as Quantity * UnitPrice\n",
        "# Monetary: Sum of total price for each customer\n",
        "monetary = data.groupby('CustomerID')['OrderValue'].sum()\n",
        "\n",
        "# Creating the RFM DataFrame\n",
        "rfm = pd.DataFrame({\n",
        "    'Recency': recency,\n",
        "    'Frequency': frequency,\n",
        "    'Monetary': monetary\n",
        "})\n",
        "\n",
        "rfm.head()\n"
      ]
    },
    {
      "cell_type": "code",
      "execution_count": null,
      "metadata": {
        "id": "IOfwsyIwwjTr",
        "outputId": "bd17b6ea-7168-47ba-dfaa-e3e4a880e5ff"
      },
      "outputs": [
        {
          "name": "stdout",
          "output_type": "stream",
          "text": [
            "Potential Loyalists    1080\n",
            "Loyal Customers        1046\n",
            "At-Risk Customers       985\n",
            "Churned Customers       790\n",
            "Other                   371\n",
            "New Customers           100\n",
            "Name: Segment, dtype: int64\n"
          ]
        },
        {
          "data": {
            "text/html": [
              "<div>\n",
              "<style scoped>\n",
              "    .dataframe tbody tr th:only-of-type {\n",
              "        vertical-align: middle;\n",
              "    }\n",
              "\n",
              "    .dataframe tbody tr th {\n",
              "        vertical-align: top;\n",
              "    }\n",
              "\n",
              "    .dataframe thead th {\n",
              "        text-align: right;\n",
              "    }\n",
              "</style>\n",
              "<table border=\"1\" class=\"dataframe\">\n",
              "  <thead>\n",
              "    <tr style=\"text-align: right;\">\n",
              "      <th></th>\n",
              "      <th>Recency</th>\n",
              "      <th>Frequency</th>\n",
              "      <th>Monetary</th>\n",
              "      <th>R_quartile</th>\n",
              "      <th>F_quartile</th>\n",
              "      <th>M_quartile</th>\n",
              "      <th>RFM_Score</th>\n",
              "      <th>Cluster</th>\n",
              "      <th>Segment</th>\n",
              "    </tr>\n",
              "    <tr>\n",
              "      <th>CustomerID</th>\n",
              "      <th></th>\n",
              "      <th></th>\n",
              "      <th></th>\n",
              "      <th></th>\n",
              "      <th></th>\n",
              "      <th></th>\n",
              "      <th></th>\n",
              "      <th></th>\n",
              "      <th></th>\n",
              "    </tr>\n",
              "  </thead>\n",
              "  <tbody>\n",
              "    <tr>\n",
              "      <th>12346</th>\n",
              "      <td>326</td>\n",
              "      <td>2</td>\n",
              "      <td>0.00</td>\n",
              "      <td>1</td>\n",
              "      <td>3</td>\n",
              "      <td>4</td>\n",
              "      <td>134</td>\n",
              "      <td>0</td>\n",
              "      <td>Potential Loyalists</td>\n",
              "    </tr>\n",
              "    <tr>\n",
              "      <th>12347</th>\n",
              "      <td>2</td>\n",
              "      <td>7</td>\n",
              "      <td>4310.00</td>\n",
              "      <td>4</td>\n",
              "      <td>1</td>\n",
              "      <td>1</td>\n",
              "      <td>411</td>\n",
              "      <td>2</td>\n",
              "      <td>Churned Customers</td>\n",
              "    </tr>\n",
              "    <tr>\n",
              "      <th>12348</th>\n",
              "      <td>75</td>\n",
              "      <td>4</td>\n",
              "      <td>1797.24</td>\n",
              "      <td>2</td>\n",
              "      <td>2</td>\n",
              "      <td>1</td>\n",
              "      <td>221</td>\n",
              "      <td>2</td>\n",
              "      <td>Other</td>\n",
              "    </tr>\n",
              "    <tr>\n",
              "      <th>12349</th>\n",
              "      <td>19</td>\n",
              "      <td>1</td>\n",
              "      <td>1757.55</td>\n",
              "      <td>3</td>\n",
              "      <td>3</td>\n",
              "      <td>1</td>\n",
              "      <td>331</td>\n",
              "      <td>2</td>\n",
              "      <td>At-Risk Customers</td>\n",
              "    </tr>\n",
              "    <tr>\n",
              "      <th>12350</th>\n",
              "      <td>310</td>\n",
              "      <td>1</td>\n",
              "      <td>334.40</td>\n",
              "      <td>1</td>\n",
              "      <td>3</td>\n",
              "      <td>3</td>\n",
              "      <td>133</td>\n",
              "      <td>0</td>\n",
              "      <td>Potential Loyalists</td>\n",
              "    </tr>\n",
              "  </tbody>\n",
              "</table>\n",
              "</div>"
            ],
            "text/plain": [
              "            Recency  Frequency  Monetary  R_quartile  F_quartile  M_quartile  \\\n",
              "CustomerID                                                                     \n",
              "12346           326          2      0.00           1           3           4   \n",
              "12347             2          7   4310.00           4           1           1   \n",
              "12348            75          4   1797.24           2           2           1   \n",
              "12349            19          1   1757.55           3           3           1   \n",
              "12350           310          1    334.40           1           3           3   \n",
              "\n",
              "           RFM_Score  Cluster              Segment  \n",
              "CustomerID                                          \n",
              "12346            134        0  Potential Loyalists  \n",
              "12347            411        2    Churned Customers  \n",
              "12348            221        2                Other  \n",
              "12349            331        2    At-Risk Customers  \n",
              "12350            133        0  Potential Loyalists  "
            ]
          },
          "execution_count": 21,
          "metadata": {},
          "output_type": "execute_result"
        }
      ],
      "source": [
        "# Defining the thresholds for each segment.\n",
        "high_value_threshold = {'R': [0, 2], 'F': [3, 4], 'M': [3, 4]}\n",
        "loyal_customer_threshold = {'R': [0, 3], 'F': [3, 4], 'M': [1, 4]}\n",
        "potential_loyalist_threshold = {'R': [0, 3], 'F': [2, 3], 'M': [2, 4]}\n",
        "new_customer_threshold = {'R': [0, 1], 'F': [1, 2], 'M': [1, 2]}\n",
        "at_risk_threshold = {'R': [3, 4], 'F': [1, 3], 'M': [1, 3]}\n",
        "churned_customer_threshold = {'R': [4, 4], 'F': [1, 2], 'M': [1, 2]}\n",
        "# Converting the RFM quartile columns to integers for comparison\n",
        "rfm['R_quartile'] = rfm['R_quartile'].astype(int)\n",
        "rfm['F_quartile'] = rfm['F_quartile'].astype(int)\n",
        "rfm['M_quartile'] = rfm['M_quartile'].astype(int)\n",
        "\n",
        "# Categorizing customers based on defined thresholds\n",
        "rfm['Segment'] = 'Other'  # Default segment\n",
        "rfm.loc[\n",
        "    (rfm['R_quartile'].between(*high_value_threshold['R'])) &\n",
        "    (rfm['F_quartile'].between(*high_value_threshold['F'])) &\n",
        "    (rfm['M_quartile'].between(*high_value_threshold['M'])), 'Segment'] = 'High-Value Customers'\n",
        "\n",
        "rfm.loc[\n",
        "    (rfm['R_quartile'].between(*loyal_customer_threshold['R'])) &\n",
        "    (rfm['F_quartile'].between(*loyal_customer_threshold['F'])) &\n",
        "    (rfm['M_quartile'].between(*loyal_customer_threshold['M'])), 'Segment'] = 'Loyal Customers'\n",
        "\n",
        "rfm.loc[\n",
        "    (rfm['R_quartile'].between(*potential_loyalist_threshold['R'])) &\n",
        "    (rfm['F_quartile'].between(*potential_loyalist_threshold['F'])) &\n",
        "    (rfm['M_quartile'].between(*potential_loyalist_threshold['M'])), 'Segment'] = 'Potential Loyalists'\n",
        "\n",
        "rfm.loc[\n",
        "    (rfm['R_quartile'].between(*new_customer_threshold['R'])) &\n",
        "    (rfm['F_quartile'].between(*new_customer_threshold['F'])) &\n",
        "    (rfm['M_quartile'].between(*new_customer_threshold['M'])), 'Segment'] = 'New Customers'\n",
        "\n",
        "rfm.loc[\n",
        "    (rfm['R_quartile'].between(*at_risk_threshold['R'])) &\n",
        "    (rfm['F_quartile'].between(*at_risk_threshold['F'])) &\n",
        "    (rfm['M_quartile'].between(*at_risk_threshold['M'])), 'Segment'] = 'At-Risk Customers'\n",
        "\n",
        "rfm.loc[\n",
        "    (rfm['R_quartile'].between(*churned_customer_threshold['R'])) &\n",
        "    (rfm['F_quartile'].between(*churned_customer_threshold['F'])) &\n",
        "    (rfm['M_quartile'].between(*churned_customer_threshold['M'])), 'Segment'] = 'Churned Customers'\n",
        "\n",
        "# Displaying the segment distribution\n",
        "print(rfm['Segment'].value_counts())\n",
        "\n",
        "# Optionally, display the first few rows of the updated DataFrame\n",
        "rfm.head()\n"
      ]
    },
    {
      "cell_type": "markdown",
      "metadata": {
        "id": "gkIQT5nHwjTs"
      },
      "source": [
        " # Q. Are there any customer segments based on their purchase behavior\n",
        "    > YES, customer segments are based on their purchase behavior and the table above shows the segment."
      ]
    },
    {
      "cell_type": "markdown",
      "metadata": {
        "id": "sB1AdGwFwjTs"
      },
      "source": [
        "# 8. Returns and Refunds *"
      ]
    },
    {
      "cell_type": "markdown",
      "metadata": {
        "id": "SnCTJEZEwjTs"
      },
      "source": [
        "Note  : Returns cant be found as it is not available in the dataset.\n",
        " >If the dataset was available we would consider -ve values in 'Quantity' column indicating refund and 'ProductCategory' column will be used to calculate the percentage of return by category."
      ]
    },
    {
      "cell_type": "code",
      "execution_count": null,
      "metadata": {
        "id": "o8sof9I4wjTs"
      },
      "outputs": [],
      "source": [
        "# If there was a 'Quantity' column then negative values would indicate returns\n",
        "# Calculating the total number of orders and the number of returned orders\n",
        "total_orders = data['InvoiceNo'].nunique()\n",
        "returned_orders = data[data['Quantity'] < 0]['InvoiceNo'].nunique()\n",
        "percentage_returns = (returned_orders / total_orders) * 100\n",
        "\n",
        "# If there was a 'ProductCategory' column then\n",
        "# Calculating the percentage of returns by product category\n",
        "returns_by_category = data[data['Quantity'] < 0].groupby('ProductCategory')['InvoiceNo'].nunique()\n",
        "orders_by_category = data.groupby('ProductCategory')['InvoiceNo'].nunique()\n",
        "percentage_returns_by_category = (returns_by_category / orders_by_category) * 100"
      ]
    },
    {
      "cell_type": "code",
      "execution_count": null,
      "metadata": {
        "id": "RPT8Nop9wjTs"
      },
      "outputs": [],
      "source": []
    },
    {
      "cell_type": "markdown",
      "metadata": {
        "id": "t0Ei51JZwjTs"
      },
      "source": [
        "# 9. Profitability Analysis"
      ]
    },
    {
      "cell_type": "markdown",
      "metadata": {
        "id": "EO5BiHVfwjTs"
      },
      "source": [
        "NOTE  : To perform a profitability analysis using your dataset, we need both revenue and the cost associated with each sale to calculate profit.\n",
        " > Profit=Total Sales Revenue−Total Cost of Goods"
      ]
    },
    {
      "cell_type": "code",
      "execution_count": null,
      "metadata": {
        "id": "iA_br7rZwjTs"
      },
      "outputs": [],
      "source": [
        "# TOTAL PROFIT CALCULATION\n",
        "# If the dataset had 'ProfitMargin' columns then,\n",
        "# Total Sales Revenue = UnitPrice * Quantity\n",
        "data['SalesRevenue'] = data['UnitPrice'] * data['Quantity']\n",
        "\n",
        "# If COGS data is not available but Profit Margin percentage was available then,\n",
        "# COGS = SalesRevenue - (SalesRevenue * ProfitMargin)\n",
        "data['COGS'] = data['SalesRevenue'] - (data['SalesRevenue'] * data['ProfitMargin'])\n",
        "\n",
        "# Calculating Total Profit = Total Sales Revenue - Total COGS\n",
        "total_profit = data['SalesRevenue'].sum() - data['COGS'].sum()\n"
      ]
    },
    {
      "cell_type": "code",
      "execution_count": null,
      "metadata": {
        "id": "q5t-gUchwjTt"
      },
      "outputs": [],
      "source": [
        "# TOP 5 PRODUCTS WITH HIGHEST PROFIT MARGIN\n",
        "# Calculating Profit Margin for each product\n",
        "# Calculating Profit Margin = (SalesRevenue - COGS) / SalesRevenue\n",
        "data['ProductProfitMargin'] = (data['SalesRevenue'] - data['COGS']) / data['SalesRevenue']\n",
        "\n",
        "# Grouping by Product and calculate average profit margin\n",
        "average_profit_margin_by_product = data.groupby('Product')['ProductProfitMargin'].mean()\n",
        "\n",
        "# Finding top 5 products with the highest profit margins\n",
        "top_5_products_profit_margin = average_profit_margin_by_product.sort_values(ascending=False).head(5)"
      ]
    },
    {
      "cell_type": "markdown",
      "metadata": {
        "id": "cESbUx6cwjTt"
      },
      "source": [
        "# 10. Customer Satisfaction"
      ]
    },
    {
      "cell_type": "markdown",
      "metadata": {
        "id": "QqDk7VQ2wjTt"
      },
      "source": [
        "NOTE : The dataset does not have a CustomerFeedback column , if the CustomerFeedback column was available then the necessary steps that we would have performed are shown below. If the customer feedback is in the form of text (reviews or comments), we will use Natural Language Processing (NLP) techniques to perform sentiment analysis. Python libraries like TextBlob can be used."
      ]
    },
    {
      "cell_type": "code",
      "execution_count": null,
      "metadata": {
        "id": "G38S6rkbwjTt"
      },
      "outputs": [],
      "source": [
        "from textblob import TextBlob\n",
        "\n",
        "# Assuming 'data' has a 'CustomerFeedback' column\n",
        "# Apply TextBlob to each feedback to get sentiment polarity\n",
        "data['SentimentPolarity'] = data['CustomerFeedback'].apply(lambda x: TextBlob(x).sentiment.polarity)\n",
        "\n",
        "# Categorize sentiments as Positive, Neutral, or Negative\n",
        "data['Sentiment'] = pd.cut(data['SentimentPolarity'], bins=3, labels=[\"Negative\", \"Neutral\", \"Positive\"])\n",
        "\n",
        "# Analyze sentiment distribution\n",
        "sentiment_distribution = data['Sentiment'].value_counts()\n",
        "\n",
        "sentiment_distribution\n"
      ]
    },
    {
      "cell_type": "markdown",
      "metadata": {
        "id": "WVF6RmlQwjTt"
      },
      "source": [
        "NOTE : For Analysis of Feedback Trends there is no rating column available in the dataset.\n",
        "    \n",
        "If the dataset include numerical ratings like a 5-star , we would analyze trends such as the average rating per product, changes in ratings over time, or the distribution of ratings."
      ]
    },
    {
      "cell_type": "code",
      "execution_count": null,
      "metadata": {
        "id": "ro2KtK5zwjTt"
      },
      "outputs": [],
      "source": [
        "# If 'data' has a 'Rating' column then,\n",
        "# Calculate the average rating for each product\n",
        "average_rating_by_product = data.groupby('Product')['Rating'].mean()\n",
        "\n",
        "# Analyzing rating distribution\n",
        "rating_distribution = data['Rating'].value_counts()\n",
        "\n",
        "average_rating_by_product, rating_distribution\n"
      ]
    },
    {
      "cell_type": "code",
      "execution_count": null,
      "metadata": {
        "id": "F0YXh3L4wjTt"
      },
      "outputs": [],
      "source": []
    }
  ],
  "metadata": {
    "colab": {
      "provenance": []
    },
    "kernelspec": {
      "display_name": "Python 3 (ipykernel)",
      "language": "python",
      "name": "python3"
    },
    "language_info": {
      "codemirror_mode": {
        "name": "ipython",
        "version": 3
      },
      "file_extension": ".py",
      "mimetype": "text/x-python",
      "name": "python",
      "nbconvert_exporter": "python",
      "pygments_lexer": "ipython3",
      "version": "3.11.4"
    }
  },
  "nbformat": 4,
  "nbformat_minor": 0
}